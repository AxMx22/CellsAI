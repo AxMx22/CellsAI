{
 "cells": [
  {
   "cell_type": "code",
   "execution_count": null,
   "id": "9a313a38-c6fe-4715-8e97-981738d8e356",
   "metadata": {},
   "outputs": [],
   "source": [
    "!pip install torch==1.13.1+cu117 torchvision==0.14.1+cu117 torchaudio==0.13.1 --extra-index-url https://download.pytorch.org/whl/cu117"
   ]
  },
  {
   "cell_type": "code",
   "execution_count": null,
   "id": "41b7b67d-ff64-4a5a-866b-4a06e03bfc4c",
   "metadata": {},
   "outputs": [],
   "source": [
    "!pip install jupyter lab"
   ]
  },
  {
   "cell_type": "code",
   "execution_count": 1,
   "id": "b8ae2e72-f8d6-4372-ab21-d382e9e06a6b",
   "metadata": {},
   "outputs": [
    {
     "name": "stdout",
     "output_type": "stream",
     "text": [
      "Collecting keyboard\n",
      "  Downloading keyboard-0.13.5-py3-none-any.whl (58 kB)\n",
      "     ---------------------------------------- 0.0/58.1 kB ? eta -:--:--\n",
      "     ------------- ------------------------ 20.5/58.1 kB 330.3 kB/s eta 0:00:01\n",
      "     --------------------------------- ---- 51.2/58.1 kB 525.1 kB/s eta 0:00:01\n",
      "     -------------------------------------- 58.1/58.1 kB 439.1 kB/s eta 0:00:00\n",
      "Installing collected packages: keyboard\n",
      "Successfully installed keyboard-0.13.5\n"
     ]
    }
   ],
   "source": [
    "!pip install keyboard"
   ]
  },
  {
   "cell_type": "code",
   "execution_count": 2,
   "id": "5206fe28-022b-4e02-947a-eda5d5f9920b",
   "metadata": {},
   "outputs": [
    {
     "name": "stdout",
     "output_type": "stream",
     "text": [
      "Collecting opencv-python\n",
      "  Downloading opencv_python-4.8.1.78-cp37-abi3-win_amd64.whl.metadata (20 kB)\n",
      "Requirement already satisfied: numpy>=1.17.0 in c:\\users\\rayan\\anaconda3\\envs\\matrix\\lib\\site-packages (from opencv-python) (1.26.0)\n",
      "Downloading opencv_python-4.8.1.78-cp37-abi3-win_amd64.whl (38.1 MB)\n",
      "   ---------------------------------------- 0.0/38.1 MB ? eta -:--:--\n",
      "   ---------------------------------------- 0.0/38.1 MB 1.9 MB/s eta 0:00:20\n",
      "   ---------------------------------------- 0.2/38.1 MB 3.1 MB/s eta 0:00:13\n",
      "    --------------------------------------- 0.5/38.1 MB 4.7 MB/s eta 0:00:08\n",
      "   - -------------------------------------- 1.1/38.1 MB 7.2 MB/s eta 0:00:06\n",
      "   - -------------------------------------- 1.6/38.1 MB 7.7 MB/s eta 0:00:05\n",
      "   -- ------------------------------------- 2.0/38.1 MB 7.5 MB/s eta 0:00:05\n",
      "   -- ------------------------------------- 2.6/38.1 MB 8.6 MB/s eta 0:00:05\n",
      "   --- ------------------------------------ 3.0/38.1 MB 8.4 MB/s eta 0:00:05\n",
      "   --- ------------------------------------ 3.6/38.1 MB 8.7 MB/s eta 0:00:04\n",
      "   ---- ----------------------------------- 4.2/38.1 MB 9.2 MB/s eta 0:00:04\n",
      "   ---- ----------------------------------- 4.8/38.1 MB 9.5 MB/s eta 0:00:04\n",
      "   ----- ---------------------------------- 5.4/38.1 MB 9.9 MB/s eta 0:00:04\n",
      "   ------ --------------------------------- 6.1/38.1 MB 10.2 MB/s eta 0:00:04\n",
      "   ------- -------------------------------- 6.7/38.1 MB 10.4 MB/s eta 0:00:04\n",
      "   ------- -------------------------------- 7.4/38.1 MB 10.7 MB/s eta 0:00:03\n",
      "   -------- ------------------------------- 8.1/38.1 MB 11.0 MB/s eta 0:00:03\n",
      "   --------- ------------------------------ 8.9/38.1 MB 11.4 MB/s eta 0:00:03\n",
      "   ---------- ----------------------------- 9.7/38.1 MB 11.7 MB/s eta 0:00:03\n",
      "   ----------- ---------------------------- 10.5/38.1 MB 13.1 MB/s eta 0:00:03\n",
      "   ----------- ---------------------------- 11.4/38.1 MB 13.9 MB/s eta 0:00:02\n",
      "   ------------ --------------------------- 12.3/38.1 MB 14.6 MB/s eta 0:00:02\n",
      "   ------------- -------------------------- 13.0/38.1 MB 14.9 MB/s eta 0:00:02\n",
      "   -------------- ------------------------- 13.6/38.1 MB 15.2 MB/s eta 0:00:02\n",
      "   -------------- ------------------------- 14.3/38.1 MB 15.6 MB/s eta 0:00:02\n",
      "   ---------------- ----------------------- 15.2/38.1 MB 16.0 MB/s eta 0:00:02\n",
      "   ----------------- ---------------------- 16.3/38.1 MB 16.8 MB/s eta 0:00:02\n",
      "   ------------------ --------------------- 17.4/38.1 MB 17.7 MB/s eta 0:00:02\n",
      "   ------------------- -------------------- 18.4/38.1 MB 18.2 MB/s eta 0:00:02\n",
      "   -------------------- ------------------- 19.5/38.1 MB 18.7 MB/s eta 0:00:01\n",
      "   -------------------- ------------------- 19.9/38.1 MB 18.7 MB/s eta 0:00:01\n",
      "   --------------------- ------------------ 20.3/38.1 MB 18.7 MB/s eta 0:00:01\n",
      "   --------------------- ------------------ 20.9/38.1 MB 16.8 MB/s eta 0:00:02\n",
      "   ---------------------- ----------------- 21.7/38.1 MB 16.8 MB/s eta 0:00:01\n",
      "   ----------------------- ---------------- 22.5/38.1 MB 16.8 MB/s eta 0:00:01\n",
      "   ------------------------ --------------- 23.4/38.1 MB 17.3 MB/s eta 0:00:01\n",
      "   ------------------------- -------------- 24.2/38.1 MB 17.2 MB/s eta 0:00:01\n",
      "   -------------------------- ------------- 25.0/38.1 MB 17.2 MB/s eta 0:00:01\n",
      "   -------------------------- ------------- 25.6/38.1 MB 16.8 MB/s eta 0:00:01\n",
      "   --------------------------- ------------ 26.3/38.1 MB 16.8 MB/s eta 0:00:01\n",
      "   ---------------------------- ----------- 26.8/38.1 MB 16.0 MB/s eta 0:00:01\n",
      "   ----------------------------- ---------- 27.7/38.1 MB 15.6 MB/s eta 0:00:01\n",
      "   ----------------------------- ---------- 28.5/38.1 MB 15.2 MB/s eta 0:00:01\n",
      "   ------------------------------ --------- 29.4/38.1 MB 15.2 MB/s eta 0:00:01\n",
      "   ------------------------------- -------- 30.2/38.1 MB 15.6 MB/s eta 0:00:01\n",
      "   -------------------------------- ------- 31.1/38.1 MB 16.8 MB/s eta 0:00:01\n",
      "   --------------------------------- ------ 32.0/38.1 MB 16.8 MB/s eta 0:00:01\n",
      "   ---------------------------------- ----- 32.9/38.1 MB 16.8 MB/s eta 0:00:01\n",
      "   ----------------------------------- ---- 33.8/38.1 MB 16.8 MB/s eta 0:00:01\n",
      "   ------------------------------------ --- 34.7/38.1 MB 17.2 MB/s eta 0:00:01\n",
      "   ------------------------------------- -- 35.5/38.1 MB 17.3 MB/s eta 0:00:01\n",
      "   -------------------------------------- - 36.4/38.1 MB 17.7 MB/s eta 0:00:01\n",
      "   ---------------------------------------  37.3/38.1 MB 18.2 MB/s eta 0:00:01\n",
      "   ---------------------------------------  38.1/38.1 MB 18.7 MB/s eta 0:00:01\n",
      "   ---------------------------------------  38.1/38.1 MB 18.7 MB/s eta 0:00:01\n",
      "   ---------------------------------------  38.1/38.1 MB 18.7 MB/s eta 0:00:01\n",
      "   ---------------------------------------- 38.1/38.1 MB 15.9 MB/s eta 0:00:00\n",
      "Installing collected packages: opencv-python\n",
      "Successfully installed opencv-python-4.8.1.78\n"
     ]
    }
   ],
   "source": [
    "!pip install opencv-python"
   ]
  },
  {
   "cell_type": "code",
   "execution_count": 3,
   "id": "16b708ce-0f6c-417c-84d5-d943e3e7047d",
   "metadata": {},
   "outputs": [
    {
     "name": "stdout",
     "output_type": "stream",
     "text": [
      "Collecting pygetwindow\n",
      "  Downloading PyGetWindow-0.0.9.tar.gz (9.7 kB)\n",
      "  Preparing metadata (setup.py): started\n",
      "  Preparing metadata (setup.py): finished with status 'done'\n",
      "Collecting pyrect (from pygetwindow)\n",
      "  Downloading PyRect-0.2.0.tar.gz (17 kB)\n",
      "  Preparing metadata (setup.py): started\n",
      "  Preparing metadata (setup.py): finished with status 'done'\n",
      "Building wheels for collected packages: pygetwindow, pyrect\n",
      "  Building wheel for pygetwindow (setup.py): started\n",
      "  Building wheel for pygetwindow (setup.py): finished with status 'done'\n",
      "  Created wheel for pygetwindow: filename=PyGetWindow-0.0.9-py3-none-any.whl size=11081 sha256=29330bf45544121c395e5b022c698b99a1902c7b796e254444a3c562a4765abc\n",
      "  Stored in directory: c:\\users\\rayan\\appdata\\local\\pip\\cache\\wheels\\44\\ab\\20\\423c3a444793767e4e41f8377bc902f77bee212e68dcce85a5\n",
      "  Building wheel for pyrect (setup.py): started\n",
      "  Building wheel for pyrect (setup.py): finished with status 'done'\n",
      "  Created wheel for pyrect: filename=PyRect-0.2.0-py2.py3-none-any.whl size=11205 sha256=07910efd393cef0d066f5fd6f305bb9d93ed17cc1043b12773e6ccb4ce7f01f4\n",
      "  Stored in directory: c:\\users\\rayan\\appdata\\local\\pip\\cache\\wheels\\25\\80\\fa\\27bb4a1c2e21f64ec71390489d52e57b7cc8afbe79bd595c5e\n",
      "Successfully built pygetwindow pyrect\n",
      "Installing collected packages: pyrect, pygetwindow\n",
      "Successfully installed pygetwindow-0.0.9 pyrect-0.2.0\n"
     ]
    }
   ],
   "source": [
    "!pip install pygetwindow"
   ]
  },
  {
   "cell_type": "code",
   "execution_count": 4,
   "id": "6a5be64d-42b7-464e-a491-b0d6376a7ff9",
   "metadata": {},
   "outputs": [
    {
     "name": "stdout",
     "output_type": "stream",
     "text": [
      "Requirement already satisfied: numpy in c:\\users\\rayan\\anaconda3\\envs\\matrix\\lib\\site-packages (1.26.0)\n"
     ]
    }
   ],
   "source": [
    "!pip install numpy"
   ]
  },
  {
   "cell_type": "code",
   "execution_count": 5,
   "id": "abbc1ce4-4e96-40c8-8e63-1fb1f3f4968c",
   "metadata": {},
   "outputs": [
    {
     "name": "stdout",
     "output_type": "stream",
     "text": [
      "Collecting pyautogui\n",
      "  Downloading PyAutoGUI-0.9.54.tar.gz (61 kB)\n",
      "     ---------------------------------------- 0.0/61.2 kB ? eta -:--:--\n",
      "     ------------ ------------------------- 20.5/61.2 kB 682.7 kB/s eta 0:00:01\n",
      "     ------------------------------- ------ 51.2/61.2 kB 660.6 kB/s eta 0:00:01\n",
      "     -------------------------------------- 61.2/61.2 kB 653.8 kB/s eta 0:00:00\n",
      "  Installing build dependencies: started\n",
      "  Installing build dependencies: finished with status 'done'\n",
      "  Getting requirements to build wheel: started\n",
      "  Getting requirements to build wheel: finished with status 'done'\n",
      "  Preparing metadata (pyproject.toml): started\n",
      "  Preparing metadata (pyproject.toml): finished with status 'done'\n",
      "Collecting pymsgbox (from pyautogui)\n",
      "  Downloading PyMsgBox-1.0.9.tar.gz (18 kB)\n",
      "  Installing build dependencies: started\n",
      "  Installing build dependencies: finished with status 'done'\n",
      "  Getting requirements to build wheel: started\n",
      "  Getting requirements to build wheel: finished with status 'done'\n",
      "  Preparing metadata (pyproject.toml): started\n",
      "  Preparing metadata (pyproject.toml): finished with status 'done'\n",
      "Collecting pytweening>=1.0.4 (from pyautogui)\n",
      "  Downloading pytweening-1.0.7.tar.gz (168 kB)\n",
      "     ---------------------------------------- 0.0/168.2 kB ? eta -:--:--\n",
      "     -------------------------------------  163.8/168.2 kB 5.0 MB/s eta 0:00:01\n",
      "     -------------------------------------- 168.2/168.2 kB 2.5 MB/s eta 0:00:00\n",
      "  Preparing metadata (setup.py): started\n",
      "  Preparing metadata (setup.py): finished with status 'done'\n",
      "Collecting pyscreeze>=0.1.21 (from pyautogui)\n",
      "  Downloading PyScreeze-0.1.30.tar.gz (27 kB)\n",
      "  Installing build dependencies: started\n",
      "  Installing build dependencies: finished with status 'done'\n",
      "  Getting requirements to build wheel: started\n",
      "  Getting requirements to build wheel: finished with status 'done'\n",
      "  Preparing metadata (pyproject.toml): started\n",
      "  Preparing metadata (pyproject.toml): finished with status 'done'\n",
      "Requirement already satisfied: pygetwindow>=0.0.5 in c:\\users\\rayan\\anaconda3\\envs\\matrix\\lib\\site-packages (from pyautogui) (0.0.9)\n",
      "Collecting mouseinfo (from pyautogui)\n",
      "  Downloading MouseInfo-0.1.3.tar.gz (10 kB)\n",
      "  Preparing metadata (setup.py): started\n",
      "  Preparing metadata (setup.py): finished with status 'done'\n",
      "Requirement already satisfied: pyrect in c:\\users\\rayan\\anaconda3\\envs\\matrix\\lib\\site-packages (from pygetwindow>=0.0.5->pyautogui) (0.2.0)\n",
      "Requirement already satisfied: Pillow>=9.2.0 in c:\\users\\rayan\\anaconda3\\envs\\matrix\\lib\\site-packages (from pyscreeze>=0.1.21->pyautogui) (10.0.1)\n",
      "Collecting pyperclip (from mouseinfo->pyautogui)\n",
      "  Downloading pyperclip-1.8.2.tar.gz (20 kB)\n",
      "  Preparing metadata (setup.py): started\n",
      "  Preparing metadata (setup.py): finished with status 'done'\n",
      "Building wheels for collected packages: pyautogui, pyscreeze, pytweening, mouseinfo, pymsgbox, pyperclip\n",
      "  Building wheel for pyautogui (pyproject.toml): started\n",
      "  Building wheel for pyautogui (pyproject.toml): finished with status 'done'\n",
      "  Created wheel for pyautogui: filename=PyAutoGUI-0.9.54-py3-none-any.whl size=37596 sha256=a178960cda6b591307e630a11ee33ae4e01c8f0878184c67d25790e5944629d7\n",
      "  Stored in directory: c:\\users\\rayan\\appdata\\local\\pip\\cache\\wheels\\29\\2b\\5f\\9df8525a15d14d1a3ba04fe66e5bd3d2dc8ca7f5fb2ab2ec50\n",
      "  Building wheel for pyscreeze (pyproject.toml): started\n",
      "  Building wheel for pyscreeze (pyproject.toml): finished with status 'done'\n",
      "  Created wheel for pyscreeze: filename=PyScreeze-0.1.30-py3-none-any.whl size=14401 sha256=25f6238e3d301ce6970f5938ab67258a507c510525d8b2a479dffbfa5f64be2d\n",
      "  Stored in directory: c:\\users\\rayan\\appdata\\local\\pip\\cache\\wheels\\57\\ef\\26\\25869f8f3fbfc108d6d5a50f57184291825caedc8ab1eaa1d6\n",
      "  Building wheel for pytweening (setup.py): started\n",
      "  Building wheel for pytweening (setup.py): finished with status 'done'\n",
      "  Created wheel for pytweening: filename=pytweening-1.0.7-py3-none-any.whl size=6213 sha256=4793b168193be7dc014d28581b571bb9d132bbae9032706651512c0225c654e4\n",
      "  Stored in directory: c:\\users\\rayan\\appdata\\local\\pip\\cache\\wheels\\d1\\d6\\29\\c2adb2c73f3e9ac2486786fe1f16e8036bd062205303e1ed6a\n",
      "  Building wheel for mouseinfo (setup.py): started\n",
      "  Building wheel for mouseinfo (setup.py): finished with status 'done'\n",
      "  Created wheel for mouseinfo: filename=MouseInfo-0.1.3-py3-none-any.whl size=10903 sha256=694aaacff1cc53d8eb749a0b9c3bd624b2fe7aa144d77c1b7af948b767a627dc\n",
      "  Stored in directory: c:\\users\\rayan\\appdata\\local\\pip\\cache\\wheels\\61\\73\\b9\\6fb1131ab36e650206e3aa0ad7a68907b41b32ac2d4f75f543\n",
      "  Building wheel for pymsgbox (pyproject.toml): started\n",
      "  Building wheel for pymsgbox (pyproject.toml): finished with status 'done'\n",
      "  Created wheel for pymsgbox: filename=PyMsgBox-1.0.9-py3-none-any.whl size=7417 sha256=243960568788ad3cad1b731faaa03dcb90de84abd26360754777e91d78b2de77\n",
      "  Stored in directory: c:\\users\\rayan\\appdata\\local\\pip\\cache\\wheels\\7f\\13\\8c\\584c519464297d9637f9cd29fd1dcdf55e2a2cab225c76a2db\n",
      "  Building wheel for pyperclip (setup.py): started\n",
      "  Building wheel for pyperclip (setup.py): finished with status 'done'\n",
      "  Created wheel for pyperclip: filename=pyperclip-1.8.2-py3-none-any.whl size=11136 sha256=467b6e291d619a0167bc0ae47efa9608ba9ff716260aa526bc2b26d92211c810\n",
      "  Stored in directory: c:\\users\\rayan\\appdata\\local\\pip\\cache\\wheels\\0c\\09\\9e\\49e21a6840ef7955b06d47394afef0058f0378c0914e48b8b8\n",
      "Successfully built pyautogui pyscreeze pytweening mouseinfo pymsgbox pyperclip\n",
      "Installing collected packages: pytweening, pyperclip, pymsgbox, pyscreeze, mouseinfo, pyautogui\n",
      "Successfully installed mouseinfo-0.1.3 pyautogui-0.9.54 pymsgbox-1.0.9 pyperclip-1.8.2 pyscreeze-0.1.30 pytweening-1.0.7\n"
     ]
    }
   ],
   "source": [
    "!pip install pyautogui"
   ]
  },
  {
   "cell_type": "code",
   "execution_count": 6,
   "id": "d795db44-e430-4769-9f38-a3e21524be13",
   "metadata": {},
   "outputs": [
    {
     "name": "stdout",
     "output_type": "stream",
     "text": [
      "Collecting ultralytics\n",
      "  Downloading ultralytics-8.0.208-py3-none-any.whl.metadata (31 kB)\n",
      "Requirement already satisfied: matplotlib>=3.3.0 in c:\\users\\rayan\\anaconda3\\envs\\matrix\\lib\\site-packages (from ultralytics) (3.8.1)\n",
      "Requirement already satisfied: numpy>=1.22.2 in c:\\users\\rayan\\anaconda3\\envs\\matrix\\lib\\site-packages (from ultralytics) (1.26.0)\n",
      "Requirement already satisfied: opencv-python>=4.6.0 in c:\\users\\rayan\\anaconda3\\envs\\matrix\\lib\\site-packages (from ultralytics) (4.8.1.78)\n",
      "Requirement already satisfied: pillow>=7.1.2 in c:\\users\\rayan\\anaconda3\\envs\\matrix\\lib\\site-packages (from ultralytics) (10.0.1)\n",
      "Requirement already satisfied: pyyaml>=5.3.1 in c:\\users\\rayan\\anaconda3\\envs\\matrix\\lib\\site-packages (from ultralytics) (6.0.1)\n",
      "Requirement already satisfied: requests>=2.23.0 in c:\\users\\rayan\\anaconda3\\envs\\matrix\\lib\\site-packages (from ultralytics) (2.31.0)\n",
      "Requirement already satisfied: scipy>=1.4.1 in c:\\users\\rayan\\anaconda3\\envs\\matrix\\lib\\site-packages (from ultralytics) (1.11.3)\n",
      "Requirement already satisfied: torch>=1.8.0 in c:\\users\\rayan\\anaconda3\\envs\\matrix\\lib\\site-packages (from ultralytics) (1.13.1)\n",
      "Requirement already satisfied: torchvision>=0.9.0 in c:\\users\\rayan\\anaconda3\\envs\\matrix\\lib\\site-packages (from ultralytics) (0.14.1)\n",
      "Collecting tqdm>=4.64.0 (from ultralytics)\n",
      "  Downloading tqdm-4.66.1-py3-none-any.whl.metadata (57 kB)\n",
      "     ---------------------------------------- 0.0/57.6 kB ? eta -:--:--\n",
      "     ----------------------------------- ---- 51.2/57.6 kB 1.3 MB/s eta 0:00:01\n",
      "     ---------------------------------------- 57.6/57.6 kB 1.0 MB/s eta 0:00:00\n",
      "Collecting pandas>=1.1.4 (from ultralytics)\n",
      "  Downloading pandas-2.1.3-cp39-cp39-win_amd64.whl.metadata (18 kB)\n",
      "Collecting seaborn>=0.11.0 (from ultralytics)\n",
      "  Downloading seaborn-0.13.0-py3-none-any.whl.metadata (5.3 kB)\n",
      "Requirement already satisfied: psutil in c:\\users\\rayan\\anaconda3\\envs\\matrix\\lib\\site-packages (from ultralytics) (5.9.6)\n",
      "Collecting py-cpuinfo (from ultralytics)\n",
      "  Downloading py_cpuinfo-9.0.0-py3-none-any.whl (22 kB)\n",
      "Collecting thop>=0.1.1 (from ultralytics)\n",
      "  Downloading thop-0.1.1.post2209072238-py3-none-any.whl (15 kB)\n",
      "Requirement already satisfied: contourpy>=1.0.1 in c:\\users\\rayan\\anaconda3\\envs\\matrix\\lib\\site-packages (from matplotlib>=3.3.0->ultralytics) (1.2.0)\n",
      "Requirement already satisfied: cycler>=0.10 in c:\\users\\rayan\\anaconda3\\envs\\matrix\\lib\\site-packages (from matplotlib>=3.3.0->ultralytics) (0.12.1)\n",
      "Requirement already satisfied: fonttools>=4.22.0 in c:\\users\\rayan\\anaconda3\\envs\\matrix\\lib\\site-packages (from matplotlib>=3.3.0->ultralytics) (4.44.0)\n",
      "Requirement already satisfied: kiwisolver>=1.3.1 in c:\\users\\rayan\\anaconda3\\envs\\matrix\\lib\\site-packages (from matplotlib>=3.3.0->ultralytics) (1.4.5)\n",
      "Requirement already satisfied: packaging>=20.0 in c:\\users\\rayan\\anaconda3\\envs\\matrix\\lib\\site-packages (from matplotlib>=3.3.0->ultralytics) (23.2)\n",
      "Requirement already satisfied: pyparsing>=2.3.1 in c:\\users\\rayan\\anaconda3\\envs\\matrix\\lib\\site-packages (from matplotlib>=3.3.0->ultralytics) (3.1.1)\n",
      "Requirement already satisfied: python-dateutil>=2.7 in c:\\users\\rayan\\anaconda3\\envs\\matrix\\lib\\site-packages (from matplotlib>=3.3.0->ultralytics) (2.8.2)\n",
      "Requirement already satisfied: importlib-resources>=3.2.0 in c:\\users\\rayan\\anaconda3\\envs\\matrix\\lib\\site-packages (from matplotlib>=3.3.0->ultralytics) (6.1.1)\n",
      "Collecting pytz>=2020.1 (from pandas>=1.1.4->ultralytics)\n",
      "  Downloading pytz-2023.3.post1-py2.py3-none-any.whl.metadata (22 kB)\n",
      "Collecting tzdata>=2022.1 (from pandas>=1.1.4->ultralytics)\n",
      "  Downloading tzdata-2023.3-py2.py3-none-any.whl (341 kB)\n",
      "     ---------------------------------------- 0.0/341.8 kB ? eta -:--:--\n",
      "     --------------------------- ---------- 245.8/341.8 kB 7.6 MB/s eta 0:00:01\n",
      "     -------------------------------------- 341.8/341.8 kB 4.3 MB/s eta 0:00:00\n",
      "Requirement already satisfied: charset-normalizer<4,>=2 in c:\\users\\rayan\\anaconda3\\envs\\matrix\\lib\\site-packages (from requests>=2.23.0->ultralytics) (2.0.4)\n",
      "Requirement already satisfied: idna<4,>=2.5 in c:\\users\\rayan\\anaconda3\\envs\\matrix\\lib\\site-packages (from requests>=2.23.0->ultralytics) (3.4)\n",
      "Requirement already satisfied: urllib3<3,>=1.21.1 in c:\\users\\rayan\\anaconda3\\envs\\matrix\\lib\\site-packages (from requests>=2.23.0->ultralytics) (1.26.18)\n",
      "Requirement already satisfied: certifi>=2017.4.17 in c:\\users\\rayan\\anaconda3\\envs\\matrix\\lib\\site-packages (from requests>=2.23.0->ultralytics) (2023.7.22)\n",
      "Requirement already satisfied: typing_extensions in c:\\users\\rayan\\anaconda3\\envs\\matrix\\lib\\site-packages (from torch>=1.8.0->ultralytics) (4.7.1)\n",
      "Requirement already satisfied: colorama in c:\\users\\rayan\\anaconda3\\envs\\matrix\\lib\\site-packages (from tqdm>=4.64.0->ultralytics) (0.4.6)\n",
      "Requirement already satisfied: zipp>=3.1.0 in c:\\users\\rayan\\anaconda3\\envs\\matrix\\lib\\site-packages (from importlib-resources>=3.2.0->matplotlib>=3.3.0->ultralytics) (3.17.0)\n",
      "Requirement already satisfied: six>=1.5 in c:\\users\\rayan\\anaconda3\\envs\\matrix\\lib\\site-packages (from python-dateutil>=2.7->matplotlib>=3.3.0->ultralytics) (1.16.0)\n",
      "Downloading ultralytics-8.0.208-py3-none-any.whl (645 kB)\n",
      "   ---------------------------------------- 0.0/645.2 kB ? eta -:--:--\n",
      "   ---------------------------------- ---- 573.4/645.2 kB 18.2 MB/s eta 0:00:01\n",
      "   --------------------------------------- 645.2/645.2 kB 10.2 MB/s eta 0:00:00\n",
      "Downloading pandas-2.1.3-cp39-cp39-win_amd64.whl (10.8 MB)\n",
      "   ---------------------------------------- 0.0/10.8 MB ? eta -:--:--\n",
      "   -- ------------------------------------- 0.7/10.8 MB 15.3 MB/s eta 0:00:01\n",
      "   ------ --------------------------------- 1.7/10.8 MB 17.8 MB/s eta 0:00:01\n",
      "   ---------- ----------------------------- 2.8/10.8 MB 19.8 MB/s eta 0:00:01\n",
      "   -------------- ------------------------- 3.9/10.8 MB 20.7 MB/s eta 0:00:01\n",
      "   ------------------ --------------------- 5.0/10.8 MB 22.8 MB/s eta 0:00:01\n",
      "   ---------------------- ----------------- 6.2/10.8 MB 23.2 MB/s eta 0:00:01\n",
      "   --------------------------- ------------ 7.5/10.8 MB 22.7 MB/s eta 0:00:01\n",
      "   -------------------------------- ------- 8.7/10.8 MB 24.2 MB/s eta 0:00:01\n",
      "   ---------------------------------------  10.6/10.8 MB 25.2 MB/s eta 0:00:01\n",
      "   ---------------------------------------  10.8/10.8 MB 25.2 MB/s eta 0:00:01\n",
      "   ---------------------------------------- 10.8/10.8 MB 22.6 MB/s eta 0:00:00\n",
      "Downloading seaborn-0.13.0-py3-none-any.whl (294 kB)\n",
      "   ---------------------------------------- 0.0/294.6 kB ? eta -:--:--\n",
      "   ---------------------------------------- 294.6/294.6 kB 9.2 MB/s eta 0:00:00\n",
      "Downloading tqdm-4.66.1-py3-none-any.whl (78 kB)\n",
      "   ---------------------------------------- 0.0/78.3 kB ? eta -:--:--\n",
      "   ---------------------------------------- 78.3/78.3 kB 2.1 MB/s eta 0:00:00\n",
      "Downloading pytz-2023.3.post1-py2.py3-none-any.whl (502 kB)\n",
      "   ---------------------------------------- 0.0/502.5 kB ? eta -:--:--\n",
      "   --------------------------------------- 502.5/502.5 kB 15.4 MB/s eta 0:00:00\n",
      "Installing collected packages: pytz, py-cpuinfo, tzdata, tqdm, thop, pandas, seaborn, ultralytics\n",
      "Successfully installed pandas-2.1.3 py-cpuinfo-9.0.0 pytz-2023.3.post1 seaborn-0.13.0 thop-0.1.1.post2209072238 tqdm-4.66.1 tzdata-2023.3 ultralytics-8.0.208\n"
     ]
    }
   ],
   "source": [
    "!pip install ultralytics"
   ]
  },
  {
   "cell_type": "code",
   "execution_count": 7,
   "id": "b68617c5-63ca-49a8-9cce-42abbd31044a",
   "metadata": {},
   "outputs": [
    {
     "name": "stdout",
     "output_type": "stream",
     "text": [
      "Collecting ipyparallel\n",
      "  Downloading ipyparallel-8.6.1-py3-none-any.whl (298 kB)\n",
      "     ---------------------------------------- 0.0/298.1 kB ? eta -:--:--\n",
      "     --- --------------------------------- 30.7/298.1 kB 435.7 kB/s eta 0:00:01\n",
      "     ----------- ------------------------- 92.2/298.1 kB 871.5 kB/s eta 0:00:01\n",
      "     -------------------------------- ----- 256.0/298.1 kB 2.0 MB/s eta 0:00:01\n",
      "     -------------------------------------- 298.1/298.1 kB 1.8 MB/s eta 0:00:00\n",
      "Requirement already satisfied: decorator in c:\\users\\rayan\\anaconda3\\envs\\matrix\\lib\\site-packages (from ipyparallel) (5.1.1)\n",
      "Collecting entrypoints (from ipyparallel)\n",
      "  Downloading entrypoints-0.4-py3-none-any.whl (5.3 kB)\n",
      "Requirement already satisfied: ipykernel>=4.4 in c:\\users\\rayan\\anaconda3\\envs\\matrix\\lib\\site-packages (from ipyparallel) (6.26.0)\n",
      "Requirement already satisfied: ipython>=4 in c:\\users\\rayan\\anaconda3\\envs\\matrix\\lib\\site-packages (from ipyparallel) (8.17.2)\n",
      "Requirement already satisfied: jupyter-client in c:\\users\\rayan\\anaconda3\\envs\\matrix\\lib\\site-packages (from ipyparallel) (8.6.0)\n",
      "Requirement already satisfied: psutil in c:\\users\\rayan\\anaconda3\\envs\\matrix\\lib\\site-packages (from ipyparallel) (5.9.6)\n",
      "Requirement already satisfied: python-dateutil>=2.1 in c:\\users\\rayan\\anaconda3\\envs\\matrix\\lib\\site-packages (from ipyparallel) (2.8.2)\n",
      "Requirement already satisfied: pyzmq>=18 in c:\\users\\rayan\\anaconda3\\envs\\matrix\\lib\\site-packages (from ipyparallel) (25.1.1)\n",
      "Requirement already satisfied: tornado>=5.1 in c:\\users\\rayan\\anaconda3\\envs\\matrix\\lib\\site-packages (from ipyparallel) (6.3.3)\n",
      "Requirement already satisfied: tqdm in c:\\users\\rayan\\anaconda3\\envs\\matrix\\lib\\site-packages (from ipyparallel) (4.66.1)\n",
      "Requirement already satisfied: traitlets>=4.3 in c:\\users\\rayan\\anaconda3\\envs\\matrix\\lib\\site-packages (from ipyparallel) (5.13.0)\n",
      "Requirement already satisfied: comm>=0.1.1 in c:\\users\\rayan\\anaconda3\\envs\\matrix\\lib\\site-packages (from ipykernel>=4.4->ipyparallel) (0.2.0)\n",
      "Requirement already satisfied: debugpy>=1.6.5 in c:\\users\\rayan\\anaconda3\\envs\\matrix\\lib\\site-packages (from ipykernel>=4.4->ipyparallel) (1.8.0)\n",
      "Requirement already satisfied: jupyter-core!=5.0.*,>=4.12 in c:\\users\\rayan\\anaconda3\\envs\\matrix\\lib\\site-packages (from ipykernel>=4.4->ipyparallel) (5.5.0)\n",
      "Requirement already satisfied: matplotlib-inline>=0.1 in c:\\users\\rayan\\anaconda3\\envs\\matrix\\lib\\site-packages (from ipykernel>=4.4->ipyparallel) (0.1.6)\n",
      "Requirement already satisfied: nest-asyncio in c:\\users\\rayan\\anaconda3\\envs\\matrix\\lib\\site-packages (from ipykernel>=4.4->ipyparallel) (1.5.8)\n",
      "Requirement already satisfied: packaging in c:\\users\\rayan\\anaconda3\\envs\\matrix\\lib\\site-packages (from ipykernel>=4.4->ipyparallel) (23.2)\n",
      "Requirement already satisfied: jedi>=0.16 in c:\\users\\rayan\\anaconda3\\envs\\matrix\\lib\\site-packages (from ipython>=4->ipyparallel) (0.19.1)\n",
      "Requirement already satisfied: prompt-toolkit!=3.0.37,<3.1.0,>=3.0.30 in c:\\users\\rayan\\anaconda3\\envs\\matrix\\lib\\site-packages (from ipython>=4->ipyparallel) (3.0.39)\n",
      "Requirement already satisfied: pygments>=2.4.0 in c:\\users\\rayan\\anaconda3\\envs\\matrix\\lib\\site-packages (from ipython>=4->ipyparallel) (2.16.1)\n",
      "Requirement already satisfied: stack-data in c:\\users\\rayan\\anaconda3\\envs\\matrix\\lib\\site-packages (from ipython>=4->ipyparallel) (0.6.3)\n",
      "Requirement already satisfied: typing-extensions in c:\\users\\rayan\\anaconda3\\envs\\matrix\\lib\\site-packages (from ipython>=4->ipyparallel) (4.7.1)\n",
      "Requirement already satisfied: exceptiongroup in c:\\users\\rayan\\anaconda3\\envs\\matrix\\lib\\site-packages (from ipython>=4->ipyparallel) (1.1.3)\n",
      "Requirement already satisfied: colorama in c:\\users\\rayan\\anaconda3\\envs\\matrix\\lib\\site-packages (from ipython>=4->ipyparallel) (0.4.6)\n",
      "Requirement already satisfied: importlib-metadata>=4.8.3 in c:\\users\\rayan\\anaconda3\\envs\\matrix\\lib\\site-packages (from jupyter-client->ipyparallel) (6.8.0)\n",
      "Requirement already satisfied: six>=1.5 in c:\\users\\rayan\\anaconda3\\envs\\matrix\\lib\\site-packages (from python-dateutil>=2.1->ipyparallel) (1.16.0)\n",
      "Requirement already satisfied: zipp>=0.5 in c:\\users\\rayan\\anaconda3\\envs\\matrix\\lib\\site-packages (from importlib-metadata>=4.8.3->jupyter-client->ipyparallel) (3.17.0)\n",
      "Requirement already satisfied: parso<0.9.0,>=0.8.3 in c:\\users\\rayan\\anaconda3\\envs\\matrix\\lib\\site-packages (from jedi>=0.16->ipython>=4->ipyparallel) (0.8.3)\n",
      "Requirement already satisfied: platformdirs>=2.5 in c:\\users\\rayan\\anaconda3\\envs\\matrix\\lib\\site-packages (from jupyter-core!=5.0.*,>=4.12->ipykernel>=4.4->ipyparallel) (3.11.0)\n",
      "Requirement already satisfied: pywin32>=300 in c:\\users\\rayan\\anaconda3\\envs\\matrix\\lib\\site-packages (from jupyter-core!=5.0.*,>=4.12->ipykernel>=4.4->ipyparallel) (306)\n",
      "Requirement already satisfied: wcwidth in c:\\users\\rayan\\anaconda3\\envs\\matrix\\lib\\site-packages (from prompt-toolkit!=3.0.37,<3.1.0,>=3.0.30->ipython>=4->ipyparallel) (0.2.9)\n",
      "Requirement already satisfied: executing>=1.2.0 in c:\\users\\rayan\\anaconda3\\envs\\matrix\\lib\\site-packages (from stack-data->ipython>=4->ipyparallel) (2.0.1)\n",
      "Requirement already satisfied: asttokens>=2.1.0 in c:\\users\\rayan\\anaconda3\\envs\\matrix\\lib\\site-packages (from stack-data->ipython>=4->ipyparallel) (2.4.1)\n",
      "Requirement already satisfied: pure-eval in c:\\users\\rayan\\anaconda3\\envs\\matrix\\lib\\site-packages (from stack-data->ipython>=4->ipyparallel) (0.2.2)\n",
      "Installing collected packages: entrypoints, ipyparallel\n",
      "Successfully installed entrypoints-0.4 ipyparallel-8.6.1\n"
     ]
    }
   ],
   "source": [
    "!pip install ipyparallel"
   ]
  },
  {
   "cell_type": "code",
   "execution_count": null,
   "id": "66ae4ccc-5c20-452b-b4bf-e99a41447be4",
   "metadata": {},
   "outputs": [],
   "source": []
  }
 ],
 "metadata": {
  "kernelspec": {
   "display_name": "Python 3 (ipykernel)",
   "language": "python",
   "name": "python3"
  },
  "language_info": {
   "codemirror_mode": {
    "name": "ipython",
    "version": 3
   },
   "file_extension": ".py",
   "mimetype": "text/x-python",
   "name": "python",
   "nbconvert_exporter": "python",
   "pygments_lexer": "ipython3",
   "version": "3.9.18"
  }
 },
 "nbformat": 4,
 "nbformat_minor": 5
}
