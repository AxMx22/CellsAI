{
 "cells": [
  {
   "cell_type": "code",
   "execution_count": null,
   "id": "9a313a38-c6fe-4715-8e97-981738d8e356",
   "metadata": {},
   "outputs": [],
   "source": [
    "!pip install torch==1.13.1+cu117 torchvision==0.14.1+cu117 torchaudio==0.13.1 --extra-index-url https://download.pytorch.org/whl/cu117"
   ]
  },
  {
   "cell_type": "code",
   "execution_count": null,
   "id": "41b7b67d-ff64-4a5a-866b-4a06e03bfc4c",
   "metadata": {},
   "outputs": [],
   "source": [
    "!pip install jupyter lab"
   ]
  },
  {
   "cell_type": "code",
   "execution_count": null,
   "id": "b8ae2e72-f8d6-4372-ab21-d382e9e06a6b",
   "metadata": {},
   "outputs": [],
   "source": [
    "!pip install keyboard"
   ]
  },
  {
   "cell_type": "code",
   "execution_count": null,
   "id": "5206fe28-022b-4e02-947a-eda5d5f9920b",
   "metadata": {},
   "outputs": [],
   "source": [
    "!pip install opencv-python"
   ]
  },
  {
   "cell_type": "code",
   "execution_count": null,
   "id": "16b708ce-0f6c-417c-84d5-d943e3e7047d",
   "metadata": {},
   "outputs": [],
   "source": [
    "!pip install pygetwindow"
   ]
  },
  {
   "cell_type": "code",
   "execution_count": null,
   "id": "6a5be64d-42b7-464e-a491-b0d6376a7ff9",
   "metadata": {},
   "outputs": [],
   "source": [
    "!pip install numpy"
   ]
  },
  {
   "cell_type": "code",
   "execution_count": null,
   "id": "abbc1ce4-4e96-40c8-8e63-1fb1f3f4968c",
   "metadata": {},
   "outputs": [],
   "source": [
    "!pip install pyautogui"
   ]
  },
  {
   "cell_type": "code",
   "execution_count": null,
   "id": "d795db44-e430-4769-9f38-a3e21524be13",
   "metadata": {},
   "outputs": [],
   "source": [
    "!pip install ultralytics"
   ]
  }
 ],
 "metadata": {
  "kernelspec": {
   "display_name": "Python 3 (ipykernel)",
   "language": "python",
   "name": "python3"
  },
  "language_info": {
   "codemirror_mode": {
    "name": "ipython",
    "version": 3
   },
   "file_extension": ".py",
   "mimetype": "text/x-python",
   "name": "python",
   "nbconvert_exporter": "python",
   "pygments_lexer": "ipython3",
   "version": "3.11.5"
  }
 },
 "nbformat": 4,
 "nbformat_minor": 5
}
