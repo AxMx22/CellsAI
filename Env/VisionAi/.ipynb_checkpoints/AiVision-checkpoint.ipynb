{
 "cells": [
  {
   "cell_type": "code",
   "execution_count": null,
   "id": "37f70b28-a896-4a83-ac6d-c45b5672e375",
   "metadata": {},
   "outputs": [],
   "source": [
    "#Import Dependencies  \n",
    "import pyautogui\n",
    "import cv2\n",
    "import os\n",
    "import numpy as np\n",
    "import matplotlib.pyplot as plt\n",
    "import pygetwindow as gw\n",
    "from ultralytics import YOLO\n",
    "\n",
    "#Get game window\n",
    "gameWindow = gw.getWindowsWithTitle('Dead Cells')[0]\n",
    "\n",
    "#Define game coordinates\n",
    "gamePosX = 100\n",
    "gamePosY = 100\n",
    "gameWidth = 1285\n",
    "gameHeight = 760\n",
    "\n",
    "#move game to coordinates\n",
    "gameWindow.moveTo(gamePosX,gamePosY)\n",
    "\n",
    "game_model = YOLO(\"best.pt\")\n",
    "\n",
    "#loop overframe\n",
    "while True:\n",
    "    #take a screenshot\n",
    "    screen = pyautogui.screenshot(region=(gamePosX+7, gamePosY, gameWidth, gameHeight))\n",
    "    \n",
    "    #Make Prediction\n",
    "    results = game_model.predict(screen)\n",
    "    \n",
    "    # Handle the rendering of the images/video\n",
    "    cv2.imshow('GameCap', results[0].plot())\n",
    "    \n",
    "    # Cv2.waitkey\n",
    "    if cv2.waitKey(1) & 0xFF==ord('q'):\n",
    "        break\n",
    "# Close down the frame\n",
    "cv2.destroyAllWindows()"
   ]
  }
 ],
 "metadata": {
  "kernelspec": {
   "display_name": "Python 3 (ipykernel)",
   "language": "python",
   "name": "python3"
  },
  "language_info": {
   "codemirror_mode": {
    "name": "ipython",
    "version": 3
   },
   "file_extension": ".py",
   "mimetype": "text/x-python",
   "name": "python",
   "nbconvert_exporter": "python",
   "pygments_lexer": "ipython3",
   "version": "3.9.18"
  }
 },
 "nbformat": 4,
 "nbformat_minor": 5
}
