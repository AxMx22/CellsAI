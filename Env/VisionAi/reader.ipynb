{
 "cells": [
  {
   "cell_type": "code",
   "execution_count": 1,
   "id": "7923c4b1-f145-42a6-a79b-eb9cf197075e",
   "metadata": {},
   "outputs": [
    {
     "name": "stdout",
     "output_type": "stream",
     "text": [
      "[]\n"
     ]
    }
   ],
   "source": [
    "from savedList import *\n",
    "\n",
    "print(detection_list)"
   ]
  },
  {
   "cell_type": "code",
   "execution_count": 9,
   "id": "4c6a5a07-7b5e-4fa7-9065-eb98ccdc49ee",
   "metadata": {},
   "outputs": [],
   "source": [
    "def read_data():\n",
    "    f = open(\"savedList.py\",\"r\")\n",
    "    data = f.read()\n",
    "    f.close()\n",
    "    return data"
   ]
  },
  {
   "cell_type": "code",
   "execution_count": 15,
   "id": "9c2eb38c-ed41-4ba0-be35-a27864251095",
   "metadata": {},
   "outputs": [
    {
     "name": "stdout",
     "output_type": "stream",
     "text": [
      "The string contains 'enemy'\n"
     ]
    }
   ],
   "source": [
    "data = read_data()\n",
    "if \"enemy\" in data:\n",
    "    print(\"The string contains 'enemy'\")"
   ]
  },
  {
   "cell_type": "code",
   "execution_count": 12,
   "id": "652c6e7f-3b84-4884-8866-97351edc24bf",
   "metadata": {},
   "outputs": [],
   "source": [
    "import time\n",
    "from savedList import *\n",
    "\n",
    "duration_in_seconds = 5\n",
    "# Record the start time\n",
    "start_time = time.time()\n",
    "\n",
    "\n",
    "while time.time() - start_time < duration_in_seconds:\n",
    "    data = read_data()\n",
    "    print()"
   ]
  }
 ],
 "metadata": {
  "kernelspec": {
   "display_name": "Python 3 (ipykernel)",
   "language": "python",
   "name": "python3"
  },
  "language_info": {
   "codemirror_mode": {
    "name": "ipython",
    "version": 3
   },
   "file_extension": ".py",
   "mimetype": "text/x-python",
   "name": "python",
   "nbconvert_exporter": "python",
   "pygments_lexer": "ipython3",
   "version": "3.9.18"
  }
 },
 "nbformat": 4,
 "nbformat_minor": 5
}
