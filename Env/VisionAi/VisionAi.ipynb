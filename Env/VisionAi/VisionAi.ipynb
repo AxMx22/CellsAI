{
 "cells": [
  {
   "cell_type": "code",
   "execution_count": 1,
   "id": "811c20e3-27a7-420e-8aa6-4335ec89d547",
   "metadata": {},
   "outputs": [],
   "source": [
    "from ultralytics import YOLO"
   ]
  },
  {
   "cell_type": "code",
   "execution_count": 2,
   "id": "c4fe5564-3e3e-456b-93a5-a8fdfb466f61",
   "metadata": {},
   "outputs": [],
   "source": [
    "# Load a model\n",
    "model = YOLO(\"yolov8s.pt\")  # load a pretrained model (recommended for training)"
   ]
  },
  {
   "cell_type": "code",
   "execution_count": 3,
   "id": "a38808a2-d756-40eb-a75d-30dc71d8985c",
   "metadata": {},
   "outputs": [
    {
     "name": "stderr",
     "output_type": "stream",
     "text": [
      "\n",
      "Found https://ultralytics.com/images/bus.jpg locally at bus.jpg\n",
      "image 1/1 C:\\Users\\rayan\\OneDrive\\Bureau\\HackProject\\CellsAI\\Env\\VisionAi\\bus.jpg: 640x480 4 persons, 1 bus, 45.8ms\n",
      "Speed: 4.0ms preprocess, 45.8ms inference, 12.5ms postprocess per image at shape (1, 3, 640, 480)\n"
     ]
    }
   ],
   "source": [
    "# Use the model\n",
    "results = model.predict(\"https://ultralytics.com/images/bus.jpg\")  # predict on an image"
   ]
  },
  {
   "cell_type": "code",
   "execution_count": 18,
   "id": "035be73e-59c4-4e6d-81e0-3e179490fa99",
   "metadata": {},
   "outputs": [
    {
     "data": {
      "text/plain": [
       "['frame15488_jpg.rf.c14a737ee8d305e0e3adaf53ae19c2d4.jpg',\n",
       " 'frame21157_jpg.rf.6864c7608028bd66c3983730cb2a78e1.jpg',\n",
       " 'frame37808_jpg.rf.c122559789d43046b81986784b70f332.jpg',\n",
       " 'frame4780_jpg.rf.88bc204614befc326caf9a9334318b0e.jpg',\n",
       " 'frame7660_jpg.rf.6821679576d6f5e7b51dc468384d1a47.jpg',\n",
       " 'frame7840_jpg.rf.6fc019a7ae2f7fe0caf2ed5bd6a7c0e3.jpg']"
      ]
     },
     "execution_count": 18,
     "metadata": {},
     "output_type": "execute_result"
    }
   ],
   "source": [
    "import os\n",
    "os.listdir('deadcells.v1i.yolov8/test/images')"
   ]
  },
  {
   "cell_type": "code",
   "execution_count": 39,
   "id": "33ad578a-9f73-488a-841b-a7c1cebb6845",
   "metadata": {},
   "outputs": [],
   "source": [
    "from matplotlib import image \n",
    "from matplotlib import pyplot as plt \n",
    "from PIL import Image, ImageDraw"
   ]
  },
  {
   "cell_type": "code",
   "execution_count": 42,
   "id": "a68bdc4a-fcd9-4b04-b1b2-859ce5b5582e",
   "metadata": {},
   "outputs": [
    {
     "name": "stderr",
     "output_type": "stream",
     "text": [
      "\n",
      "image 1/1 C:\\Users\\rayan\\OneDrive\\Bureau\\HackProject\\CellsAI\\Env\\VisionAi\\deadcells.v1i.yolov8\\test\\images\\frame15488_jpg.rf.c14a737ee8d305e0e3adaf53ae19c2d4.jpg: 640x640 1 agents, 1 enemy_archer, 1 enemy_purple_shield, 187.3ms\n",
      "Speed: 3.0ms preprocess, 187.3ms inference, 2.4ms postprocess per image at shape (1, 3, 640, 640)\n"
     ]
    },
    {
     "name": "stdout",
     "output_type": "stream",
     "text": [
      "tensor([[172.7727, 275.6490, 207.9804, 375.4407]], device='cuda:0')\n",
      "tensor([[326.1376, 267.5645, 361.3703, 377.1994]], device='cuda:0')\n",
      "tensor([[400.0099,  52.1656, 447.8310, 160.8165]], device='cuda:0')\n"
     ]
    }
   ],
   "source": [
    "#=-------------- Testing of the Ai ---------------#\n",
    "game_model = YOLO(\"best.pt\")\n",
    "results = game_model('deadcells.v1i.yolov8/test/images/frame15488_jpg.rf.c14a737ee8d305e0e3adaf53ae19c2d4.jpg')\n",
    "boxes = results[0].boxes\n",
    "for box in boxes:\n",
    "    print(box.xyxy)\n",
    "\n",
    "for r in results:\n",
    "    im_array = r.plot()  # plot a BGR numpy array of predictions\n",
    "    im = Image.fromarray(im_array[..., ::-1])  # RGB PIL image\n",
    "    draw = ImageDraw.Draw(im) \n",
    "    draw.line((400.0099,  52.1656, 447.8310, 160.8165), fill=200)\n",
    "    im.show()\n",
    "    # im.show()  # show image\n",
    "    # im.save('results.jpg')\n",
    "    \n",
    "# # to read the image stored in the working directory \n",
    "# data = image.imread('results.jpg') \n",
    "  \n",
    "# # to draw a point on co-ordinate (200,300) \n",
    "# plt.plot(326.1376, 267.5645, marker='v', color=\"white\") \n",
    "# plt.imshow(data) \n",
    "# plt.show() \n"
   ]
  },
  {
   "cell_type": "code",
   "execution_count": null,
   "id": "59de6c83-caa0-4421-a29e-240b49054435",
   "metadata": {},
   "outputs": [
    {
     "name": "stderr",
     "output_type": "stream",
     "text": [
      "Ultralytics YOLOv8.0.206  Python-3.9.18 torch-1.13.1+cu117 CUDA:0 (NVIDIA GeForce RTX 3050 Ti Laptop GPU, 4096MiB)\n",
      "WARNING  Upgrade to torch>=2.0.0 for deterministic training.\n",
      "\u001b[34m\u001b[1mengine\\trainer: \u001b[0mtask=detect, mode=train, model=yolov8s.pt, data=deadcells.v3i.yolov8/data.yaml, epochs=50, patience=50, batch=16, imgsz=640, save=True, save_period=-1, cache=False, device=None, workers=8, project=None, name=train14, exist_ok=False, pretrained=True, optimizer=auto, verbose=True, seed=0, deterministic=True, single_cls=False, rect=False, cos_lr=False, close_mosaic=10, resume=False, amp=True, fraction=1.0, profile=False, freeze=None, overlap_mask=True, mask_ratio=4, dropout=0.0, val=True, split=val, save_json=False, save_hybrid=False, conf=None, iou=0.7, max_det=300, half=False, dnn=False, plots=True, source=None, show=False, save_txt=False, save_conf=False, save_crop=False, show_labels=True, show_conf=True, vid_stride=1, stream_buffer=False, line_width=None, visualize=False, augment=False, agnostic_nms=False, classes=None, retina_masks=False, boxes=True, format=torchscript, keras=False, optimize=False, int8=False, dynamic=False, simplify=False, opset=None, workspace=4, nms=False, lr0=0.01, lrf=0.01, momentum=0.937, weight_decay=0.0005, warmup_epochs=3.0, warmup_momentum=0.8, warmup_bias_lr=0.1, box=7.5, cls=0.5, dfl=1.5, pose=12.0, kobj=1.0, label_smoothing=0.0, nbs=64, hsv_h=0.015, hsv_s=0.7, hsv_v=0.4, degrees=0.0, translate=0.1, scale=0.5, shear=0.0, perspective=0.0, flipud=0.0, fliplr=0.5, mosaic=1.0, mixup=0.0, copy_paste=0.0, cfg=None, tracker=botsort.yaml, save_dir=runs\\detect\\train14\n",
      "Overriding model.yaml nc=80 with nc=8\n",
      "\n",
      "                   from  n    params  module                                       arguments                     \n",
      "  0                  -1  1       928  ultralytics.nn.modules.conv.Conv             [3, 32, 3, 2]                 \n",
      "  1                  -1  1     18560  ultralytics.nn.modules.conv.Conv             [32, 64, 3, 2]                \n",
      "  2                  -1  1     29056  ultralytics.nn.modules.block.C2f             [64, 64, 1, True]             \n",
      "  3                  -1  1     73984  ultralytics.nn.modules.conv.Conv             [64, 128, 3, 2]               \n",
      "  4                  -1  2    197632  ultralytics.nn.modules.block.C2f             [128, 128, 2, True]           \n",
      "  5                  -1  1    295424  ultralytics.nn.modules.conv.Conv             [128, 256, 3, 2]              \n",
      "  6                  -1  2    788480  ultralytics.nn.modules.block.C2f             [256, 256, 2, True]           \n",
      "  7                  -1  1   1180672  ultralytics.nn.modules.conv.Conv             [256, 512, 3, 2]              \n",
      "  8                  -1  1   1838080  ultralytics.nn.modules.block.C2f             [512, 512, 1, True]           \n",
      "  9                  -1  1    656896  ultralytics.nn.modules.block.SPPF            [512, 512, 5]                 \n",
      " 10                  -1  1         0  torch.nn.modules.upsampling.Upsample         [None, 2, 'nearest']          \n",
      " 11             [-1, 6]  1         0  ultralytics.nn.modules.conv.Concat           [1]                           \n",
      " 12                  -1  1    591360  ultralytics.nn.modules.block.C2f             [768, 256, 1]                 \n",
      " 13                  -1  1         0  torch.nn.modules.upsampling.Upsample         [None, 2, 'nearest']          \n",
      " 14             [-1, 4]  1         0  ultralytics.nn.modules.conv.Concat           [1]                           \n",
      " 15                  -1  1    148224  ultralytics.nn.modules.block.C2f             [384, 128, 1]                 \n",
      " 16                  -1  1    147712  ultralytics.nn.modules.conv.Conv             [128, 128, 3, 2]              \n",
      " 17            [-1, 12]  1         0  ultralytics.nn.modules.conv.Concat           [1]                           \n",
      " 18                  -1  1    493056  ultralytics.nn.modules.block.C2f             [384, 256, 1]                 \n",
      " 19                  -1  1    590336  ultralytics.nn.modules.conv.Conv             [256, 256, 3, 2]              \n",
      " 20             [-1, 9]  1         0  ultralytics.nn.modules.conv.Concat           [1]                           \n",
      " 21                  -1  1   1969152  ultralytics.nn.modules.block.C2f             [768, 512, 1]                 \n",
      " 22        [15, 18, 21]  1   2119144  ultralytics.nn.modules.head.Detect           [8, [128, 256, 512]]          \n",
      "Model summary: 225 layers, 11138696 parameters, 11138680 gradients, 28.7 GFLOPs\n",
      "\n",
      "Transferred 349/355 items from pretrained weights\n",
      "Freezing layer 'model.22.dfl.conv.weight'\n",
      "\u001b[34m\u001b[1mAMP: \u001b[0mrunning Automatic Mixed Precision (AMP) checks with YOLOv8n...\n",
      "\u001b[34m\u001b[1mAMP: \u001b[0mchecks passed \n",
      "\u001b[34m\u001b[1mtrain: \u001b[0mScanning C:\\Users\\rayan\\OneDrive\\Bureau\\HackProject\\CellsAI\\Env\\VisionAi\\deadcells.v3i.yolov8\\train\\labels... 47\u001b[0m\n",
      "\u001b[34m\u001b[1mtrain: \u001b[0mNew cache created: C:\\Users\\rayan\\OneDrive\\Bureau\\HackProject\\CellsAI\\Env\\VisionAi\\deadcells.v3i.yolov8\\train\\labels.cache\n"
     ]
    }
   ],
   "source": [
    "from ultralytics import YOLO\n",
    "#--------------- Training starts Here --------------------#\n",
    "model_small = YOLO(\"yolov8s.pt\")\n",
    "\n",
    "path_to_data = 'deadcells.v3i.yolov8/data.yaml'\n",
    "\n",
    "model_small.train(data=path_to_data, epochs=50)  # train the model"
   ]
  },
  {
   "cell_type": "code",
   "execution_count": null,
   "id": "df149435-1e9d-4265-8284-0ce1ea148811",
   "metadata": {},
   "outputs": [],
   "source": [
    "#new additon\n",
    "def get_coordinate(coord1, coord2):\n",
    "    x1, y1 = coord1\n",
    "    x2, y2 = coord2\n",
    "    \n",
    "    # Calculate the middle point.\n",
    "    coordinate = ((x1 + x2) / 2, (y1 + y2) / 2)\n",
    "\n",
    "    # Return the coordinate.\n",
    "    return coordinate\n",
    "\n",
    "# Example usage:\n",
    "coordinate = get_coordinate((400.0099, 52.1656), (447.8310, 160.8165))\n",
    "print(\"Coordinate:\", coordinate)\n",
    "\n",
    "# You can also call the function directly\n",
    "\n",
    "get_coordinate((400.0099, 52.1656),(447.8310, 160.8165))"
   ]
  }
 ],
 "metadata": {
  "kernelspec": {
   "display_name": "Python 3 (ipykernel)",
   "language": "python",
   "name": "python3"
  },
  "language_info": {
   "codemirror_mode": {
    "name": "ipython",
    "version": 3
   },
   "file_extension": ".py",
   "mimetype": "text/x-python",
   "name": "python",
   "nbconvert_exporter": "python",
   "pygments_lexer": "ipython3",
   "version": "3.11.3"
  }
 },
 "nbformat": 4,
 "nbformat_minor": 5
}
