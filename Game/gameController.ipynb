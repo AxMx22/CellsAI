{
 "cells": [
  {
   "cell_type": "code",
   "execution_count": 20,
   "id": "fab8cd3b-2923-4b75-8933-baf0c1767d4a",
   "metadata": {},
   "outputs": [],
   "source": [
    "import os\n",
    "os.startfile(r\"C:\\\\Users\\\\chipo\\\\Desktop\\\\Hck Kstae\\\\CellsAI\\\\Game\\\\deadcells.exe\")"
   ]
  },
  {
   "cell_type": "code",
   "execution_count": 22,
   "id": "8a4a9e4a-5ac5-4c77-9a2d-ed68a042a43d",
   "metadata": {},
   "outputs": [],
   "source": [
    "import pyautogui\n",
    "import time\n",
    "import keyboard\n",
    "# Wait for a few seconds to ensure the game has loaded\n",
    "time.sleep(5)\n",
    "\n",
    "def goRight():\n",
    "    pyautogui.keyDown('right')\n",
    "    time.sleep(2)\n",
    "    pyautogui.keyUp('right')\n",
    "\n",
    "def goLeft():\n",
    "    pyautogui.keyDown('left')\n",
    "    time.sleep(2)\n",
    "    pyautogui.keyUp('left')\n",
    "\n",
    "def jump():\n",
    "    pyautogui.keyDown('space')\n",
    "    time.sleep(1)\n",
    "    pyautogui.keyUp('space')\n",
    "\n",
    "def crouch():\n",
    "    pyautogui.keyDown('down')\n",
    "    time.sleep(1)\n",
    "    pyautogui.keyUp('down')\n",
    "\n",
    "\"\"\"\n",
    "def doubleJump():\n",
    "    pyautogui.keyDown('space')\n",
    "    pyautogui.keyDown('space')\n",
    "    time.sleep(1)\n",
    "    pyautogui.keyUp('space')\n",
    "    pyautogui.keyUp('space')\n",
    "\"\"\"\n",
    "\n",
    "    \n",
    "\n",
    "def climb():\n",
    "    pyautogui.keyDown('up')\n",
    "    time.sleep(1)\n",
    "    pyautogui.keyUp('up')\n",
    "\n",
    "def roll():\n",
    "    pyautogui.keyDown('ctrl')\n",
    "    time.sleep(1)\n",
    "    pyautogui.keyUp('ctrl')\n",
    "\n",
    "def weapon1():\n",
    "    pyautogui.keyDown('1')\n",
    "    time.sleep(1)\n",
    "                #left-click\n",
    "    pyautogui.keyUp('1')\n",
    "\n",
    "def weapon2():\n",
    "    pyautogui.keyDown('2')\n",
    "                            #right-click\n",
    "    time.sleep(1)\n",
    "    pyautogui.keyUp('2')\n",
    "\n",
    "def health():\n",
    "    pyautogui.keyDown('h')\n",
    "    time.sleep(1)\n",
    "    pyautogui.keyUp('h')\n",
    "\n",
    "def collect():\n",
    "    pyautogui.keyDown('r')\n",
    "    time.sleep(1)\n",
    "    pyautogui.keyUp('r')\n",
    "\n",
    "\n",
    "\n",
    "\n"
   ]
  },
  {
   "cell_type": "code",
   "execution_count": 23,
   "id": "62b5a698-8f02-4c2b-8b78-6d40d0b02b41",
   "metadata": {},
   "outputs": [
    {
     "ename": "KeyboardInterrupt",
     "evalue": "",
     "output_type": "error",
     "traceback": [
      "\u001b[1;31m---------------------------------------------------------------------------\u001b[0m",
      "\u001b[1;31mKeyboardInterrupt\u001b[0m                         Traceback (most recent call last)",
      "Cell \u001b[1;32mIn[23], line 12\u001b[0m\n\u001b[0;32m      9\u001b[0m roll()\n\u001b[0;32m     10\u001b[0m doubleJump()\n\u001b[1;32m---> 12\u001b[0m \u001b[43mweapon1\u001b[49m\u001b[43m(\u001b[49m\u001b[43m)\u001b[49m\n\u001b[0;32m     13\u001b[0m weapon2()\n\u001b[0;32m     14\u001b[0m doubleJump()\n",
      "Cell \u001b[1;32mIn[22], line 47\u001b[0m, in \u001b[0;36mweapon1\u001b[1;34m()\u001b[0m\n\u001b[0;32m     46\u001b[0m \u001b[38;5;28;01mdef\u001b[39;00m \u001b[38;5;21mweapon1\u001b[39m():\n\u001b[1;32m---> 47\u001b[0m     \u001b[43mpyautogui\u001b[49m\u001b[38;5;241;43m.\u001b[39;49m\u001b[43mkeyDown\u001b[49m\u001b[43m(\u001b[49m\u001b[38;5;124;43m'\u001b[39;49m\u001b[38;5;124;43m1\u001b[39;49m\u001b[38;5;124;43m'\u001b[39;49m\u001b[43m)\u001b[49m\n\u001b[0;32m     48\u001b[0m     time\u001b[38;5;241m.\u001b[39msleep(\u001b[38;5;241m1\u001b[39m)\n\u001b[0;32m     49\u001b[0m                 \u001b[38;5;66;03m#left-click\u001b[39;00m\n",
      "File \u001b[1;32mC:\\Python311\\Lib\\site-packages\\pyautogui\\__init__.py:595\u001b[0m, in \u001b[0;36m_genericPyAutoGUIChecks.<locals>.wrapper\u001b[1;34m(*args, **kwargs)\u001b[0m\n\u001b[0;32m    593\u001b[0m failSafeCheck()\n\u001b[0;32m    594\u001b[0m returnVal \u001b[38;5;241m=\u001b[39m wrappedFunction(\u001b[38;5;241m*\u001b[39margs, \u001b[38;5;241m*\u001b[39m\u001b[38;5;241m*\u001b[39mkwargs)\n\u001b[1;32m--> 595\u001b[0m \u001b[43m_handlePause\u001b[49m\u001b[43m(\u001b[49m\u001b[43mkwargs\u001b[49m\u001b[38;5;241;43m.\u001b[39;49m\u001b[43mget\u001b[49m\u001b[43m(\u001b[49m\u001b[38;5;124;43m\"\u001b[39;49m\u001b[38;5;124;43m_pause\u001b[39;49m\u001b[38;5;124;43m\"\u001b[39;49m\u001b[43m,\u001b[49m\u001b[43m \u001b[49m\u001b[38;5;28;43;01mTrue\u001b[39;49;00m\u001b[43m)\u001b[49m\u001b[43m)\u001b[49m\n\u001b[0;32m    596\u001b[0m \u001b[38;5;28;01mreturn\u001b[39;00m returnVal\n",
      "File \u001b[1;32mC:\\Python311\\Lib\\site-packages\\pyautogui\\__init__.py:639\u001b[0m, in \u001b[0;36m_handlePause\u001b[1;34m(_pause)\u001b[0m\n\u001b[0;32m    637\u001b[0m \u001b[38;5;28;01mif\u001b[39;00m _pause:\n\u001b[0;32m    638\u001b[0m     \u001b[38;5;28;01massert\u001b[39;00m \u001b[38;5;28misinstance\u001b[39m(PAUSE, \u001b[38;5;28mint\u001b[39m) \u001b[38;5;129;01mor\u001b[39;00m \u001b[38;5;28misinstance\u001b[39m(PAUSE, \u001b[38;5;28mfloat\u001b[39m)\n\u001b[1;32m--> 639\u001b[0m     time\u001b[38;5;241m.\u001b[39msleep(PAUSE)\n",
      "\u001b[1;31mKeyboardInterrupt\u001b[0m: "
     ]
    }
   ],
   "source": [
    "while not keyboard.is_pressed('backspace'):\n",
    "    \n",
    "    crouch()\n",
    "    doubleJump()\n",
    "    doubleJump()\n",
    "    doubleJump()\n",
    "      \n",
    "    climb()\n",
    "    roll()\n",
    "    doubleJump()\n",
    "\n",
    "    weapon1()\n",
    "    weapon2()\n",
    "    doubleJump()\n",
    "\n",
    "    health()\n",
    "    collect()\n",
    "    \n",
    "    goRight()\n",
    "    doubleJump()\n",
    "\n",
    "    goRight()\n",
    "    goRight()\n",
    "    jump()\n",
    "    jump()\n",
    "    goLeft()\n",
    "    jump()\n",
    "    goRight()\n",
    "    pass"
   ]
  },
  {
   "cell_type": "markdown",
   "id": "398401e0-ba0a-4eac-a96b-b9e8b9bb7087",
   "metadata": {},
   "source": [
    "## "
   ]
  },
  {
   "cell_type": "code",
   "execution_count": null,
   "id": "3c422b20-77e1-42f2-b4cd-0a76ebf44afb",
   "metadata": {},
   "outputs": [],
   "source": []
  }
 ],
 "metadata": {
  "kernelspec": {
   "display_name": "Python 3 (ipykernel)",
   "language": "python",
   "name": "python3"
  },
  "language_info": {
   "codemirror_mode": {
    "name": "ipython",
    "version": 3
   },
   "file_extension": ".py",
   "mimetype": "text/x-python",
   "name": "python",
   "nbconvert_exporter": "python",
   "pygments_lexer": "ipython3",
   "version": "3.11.3"
  }
 },
 "nbformat": 4,
 "nbformat_minor": 5
}
