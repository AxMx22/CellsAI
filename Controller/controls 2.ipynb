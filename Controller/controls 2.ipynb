{
 "cells": [
  {
   "cell_type": "code",
   "execution_count": 2,
   "id": "a825511d-84cf-4d36-a785-10be2203b91f",
   "metadata": {},
   "outputs": [
    {
     "ename": "SyntaxError",
     "evalue": "invalid syntax (3051057548.py, line 1)",
     "output_type": "error",
     "traceback": [
      "\u001b[1;36m  Cell \u001b[1;32mIn[2], line 1\u001b[1;36m\u001b[0m\n\u001b[1;33m    pip install pygame\u001b[0m\n\u001b[1;37m        ^\u001b[0m\n\u001b[1;31mSyntaxError\u001b[0m\u001b[1;31m:\u001b[0m invalid syntax\n"
     ]
    }
   ],
   "source": [
    "pip install pygame\n",
    "import time\n",
    "os.startfile(r\"C:\\Users\\chipo\\Desktop\\Hck Kstae\\CellsAI\\Game\\deadcells.exe\")\n",
    "C:\\Users\\chipo\\Desktop\\Hck Kstae\\CellsAI\\Game"
   ]
  },
  {
   "cell_type": "code",
   "execution_count": 2,
   "id": "ca836204-7970-4387-9ae3-6f4069ebde59",
   "metadata": {},
   "outputs": [
    {
     "name": "stdout",
     "output_type": "stream",
     "text": [
      "pygame 2.5.2 (SDL 2.28.3, Python 3.11.3)\n",
      "Hello from the pygame community. https://www.pygame.org/contribute.html\n",
      "No controller detected.\n"
     ]
    },
    {
     "ename": "NameError",
     "evalue": "name 'controller' is not defined",
     "output_type": "error",
     "traceback": [
      "\u001b[1;31m---------------------------------------------------------------------------\u001b[0m",
      "\u001b[1;31mNameError\u001b[0m                                 Traceback (most recent call last)",
      "Cell \u001b[1;32mIn[2], line 29\u001b[0m\n\u001b[0;32m     26\u001b[0m         running \u001b[38;5;241m=\u001b[39m \u001b[38;5;28;01mFalse\u001b[39;00m\n\u001b[0;32m     28\u001b[0m \u001b[38;5;66;03m# Read input from the controller's axes\u001b[39;00m\n\u001b[1;32m---> 29\u001b[0m left_stick_x \u001b[38;5;241m=\u001b[39m \u001b[43mcontroller\u001b[49m\u001b[38;5;241m.\u001b[39mget_axis(\u001b[38;5;241m0\u001b[39m)\n\u001b[0;32m     30\u001b[0m left_stick_y \u001b[38;5;241m=\u001b[39m controller\u001b[38;5;241m.\u001b[39mget_axis(\u001b[38;5;241m1\u001b[39m)\n\u001b[0;32m     32\u001b[0m \u001b[38;5;66;03m# Read input from the controller's buttons\u001b[39;00m\n",
      "\u001b[1;31mNameError\u001b[0m: name 'controller' is not defined"
     ]
    }
   ],
   "source": [
    "import pygame\n",
    "\n",
    "pygame.init()\n",
    "pygame.joystick.init()\n",
    "\n",
    "num_joysticks = pygame.joystick.get_count()\n",
    "\n",
    "if num_joysticks > 0:\n",
    "    controller = pygame.joystick.Joystick(0)\n",
    "    controller.init()\n",
    "    print(\"Controller connected:\", controller.get_name())\n",
    "else:\n",
    "    print(\"No controller detected.\")\n",
    "\n",
    "# Main loop\n",
    "running = True\n",
    "\n",
    "# Jump-related variables\n",
    "character_y_velocity = 0\n",
    "max_jumps = 2  # Maximum number of jumps\n",
    "current_jumps = 0  # Current number of jumps\n",
    "\n",
    "while running:\n",
    "    for event in pygame.event.get():\n",
    "        if event.type == pygame.QUIT:\n",
    "            running = False\n",
    "\n",
    "    # Read input from the controller's axes\n",
    "    left_stick_x = controller.get_axis(0)\n",
    "    left_stick_y = controller.get_axis(1)\n",
    "\n",
    "    # Read input from the controller's buttons\n",
    "    button_a = controller.get_button(0)  # A button\n",
    "    button_x = controller.get_button(2)  # X button\n",
    "    button_y = controller.get_button(3)  # Y button\n",
    "    button_b = controller.get_button(1)  # B button\n",
    "    button_rb = controller.get_button(5)  # RB button\n",
    "    button_lb = controller.get_button(4)  # LB button\n",
    "\n",
    "    # Define movement actions based on controller input\n",
    "    character_speed = 5  # Adjust the speed as needed\n",
    "    character_x = character_speed * left_stick_x\n",
    "    character_y_velocity += character_speed * left_stick_y\n",
    "\n",
    "    # Implement actions based on button presses\n",
    "    if button_a:\n",
    "        if current_jumps < max_jumps:\n",
    "            character_y_velocity = -10  # Adjust the jump height as needed\n",
    "            current_jumps += 1\n",
    "\n",
    "    if button_x:  # Weapon 1\n",
    "        # Perform action for weapon 1\n",
    "        pass\n",
    "\n",
    "    if button_y:  # Weapon 2\n",
    "        # Perform action for weapon 2\n",
    "        pass\n",
    "\n",
    "    if button_b:  # Roll\n",
    "        # Perform roll action\n",
    "        pass\n",
    "\n",
    "    if button_rb:  # Pick Up\n",
    "        # Perform action for picking up items\n",
    "        pass\n",
    "\n",
    "    if button_lb:  # Drink Potion\n",
    "        # Perform action for drinking a potion\n",
    "        pass\n",
    "\n",
    "    # Apply gravity to character's vertical velocity (simulate falling)\n",
    "    character_y_velocity += 1  # You can adjust the gravity strength as needed\n",
    "\n",
    "    # Update character's vertical position based on velocity\n",
    "    character_y += character_y_velocity\n",
    "\n",
    "    # Check if the character is on the ground (reset jumps)\n",
    "    if character_y >= ground_level:\n",
    "        character_y = ground_level\n",
    "        current_jumps = 0\n",
    "\n",
    "    # Do something with the character's position, such as updating it in your game\n",
    "\n",
    "    pygame.display.flip()\n",
    "\n",
    "pygame.quit()\n",
    "\n"
   ]
  },
  {
   "cell_type": "code",
   "execution_count": null,
   "id": "c2d643f7-a823-4dfa-af85-8a43939d2dd8",
   "metadata": {},
   "outputs": [],
   "source": []
  }
 ],
 "metadata": {
  "kernelspec": {
   "display_name": "Python 3 (ipykernel)",
   "language": "python",
   "name": "python3"
  },
  "language_info": {
   "codemirror_mode": {
    "name": "ipython",
    "version": 3
   },
   "file_extension": ".py",
   "mimetype": "text/x-python",
   "name": "python",
   "nbconvert_exporter": "python",
   "pygments_lexer": "ipython3",
   "version": "3.11.3"
  }
 },
 "nbformat": 4,
 "nbformat_minor": 5
}
