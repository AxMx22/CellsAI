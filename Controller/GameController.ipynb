{
 "cells": [
  {
   "cell_type": "code",
   "execution_count": 1,
   "id": "8372f121-b801-48fe-8b74-0eb7aecf839d",
   "metadata": {},
   "outputs": [],
   "source": [
    "import time\n",
    "import os"
   ]
  },
  {
   "cell_type": "code",
   "execution_count": 6,
   "id": "f4295bfc-d765-4ff2-bf2e-63e7f210c371",
   "metadata": {},
   "outputs": [
    {
     "ename": "NotADirectoryError",
     "evalue": "[WinError 267] The directory name is invalid: '../Game/deadcells.exe'",
     "output_type": "error",
     "traceback": [
      "\u001b[1;31m---------------------------------------------------------------------------\u001b[0m",
      "\u001b[1;31mNotADirectoryError\u001b[0m                        Traceback (most recent call last)",
      "\u001b[1;32m~\\AppData\\Local\\Temp\\ipykernel_26648\\1026330540.py\u001b[0m in \u001b[0;36m<module>\u001b[1;34m\u001b[0m\n\u001b[1;32m----> 1\u001b[1;33m \u001b[0mos\u001b[0m\u001b[1;33m.\u001b[0m\u001b[0mlistdir\u001b[0m\u001b[1;33m(\u001b[0m\u001b[1;34m'../Game/deadcells.exe'\u001b[0m\u001b[1;33m)\u001b[0m\u001b[1;33m\u001b[0m\u001b[1;33m\u001b[0m\u001b[0m\n\u001b[0m",
      "\u001b[1;31mNotADirectoryError\u001b[0m: [WinError 267] The directory name is invalid: '../Game/deadcells.exe'"
     ]
    }
   ],
   "source": [
    "os.listdir('../Game')"
   ]
  },
  {
   "cell_type": "code",
   "execution_count": 7,
   "id": "dc46cec5-0dbd-4ccd-affd-f569eccc4dab",
   "metadata": {},
   "outputs": [
    {
     "ename": "FileNotFoundError",
     "evalue": "[WinError 2] The system cannot find the file specified: '../Game/deadcells.exe'",
     "output_type": "error",
     "traceback": [
      "\u001b[1;31m---------------------------------------------------------------------------\u001b[0m",
      "\u001b[1;31mFileNotFoundError\u001b[0m                         Traceback (most recent call last)",
      "\u001b[1;32m~\\AppData\\Local\\Temp\\ipykernel_26648\\740156249.py\u001b[0m in \u001b[0;36m<module>\u001b[1;34m\u001b[0m\n\u001b[0;32m      1\u001b[0m \u001b[0mgame_path\u001b[0m \u001b[1;33m=\u001b[0m \u001b[1;34mr'../Game/deadcells.exe'\u001b[0m\u001b[1;33m\u001b[0m\u001b[1;33m\u001b[0m\u001b[0m\n\u001b[1;32m----> 2\u001b[1;33m \u001b[0mos\u001b[0m\u001b[1;33m.\u001b[0m\u001b[0mstartfile\u001b[0m\u001b[1;33m(\u001b[0m\u001b[0mgame_path\u001b[0m\u001b[1;33m)\u001b[0m\u001b[1;33m\u001b[0m\u001b[1;33m\u001b[0m\u001b[0m\n\u001b[0m",
      "\u001b[1;31mFileNotFoundError\u001b[0m: [WinError 2] The system cannot find the file specified: '../Game/deadcells.exe'"
     ]
    }
   ],
   "source": [
    "game_path = r'../Game/deadcells.exe'\n",
    "os.startfile(game_path)"
   ]
  },
  {
   "cell_type": "code",
   "execution_count": 16,
   "id": "15dcfdd9-905b-4a03-88e1-c5d418c6f3a6",
   "metadata": {},
   "outputs": [],
   "source": [
    "os.startfile(r\"C:\\\\Users\\\\rayan\\\\OneDrive\\\\Bureau\\\\HackProject\\\\CellsAI\\\\Game\\\\deadcells\")"
   ]
  },
  {
   "cell_type": "code",
   "execution_count": 21,
   "id": "4eeec53b-22d0-4a57-9626-06b5b4f7ab25",
   "metadata": {},
   "outputs": [
    {
     "data": {
      "text/plain": [
       "<Popen: returncode: None args: ['C:\\\\Users\\\\rayan\\\\OneDrive\\\\Bureau\\\\HackPro...>"
      ]
     },
     "execution_count": 21,
     "metadata": {},
     "output_type": "execute_result"
    }
   ],
   "source": [
    "import subprocess\n",
    "subprocess.Popen([r\"C:\\Users\\rayan\\OneDrive\\Bureau\\HackProject\\CellsAI\\Game\\deadcells.exe\"])"
   ]
  },
  {
   "cell_type": "code",
   "execution_count": null,
   "id": "c7da7ae8-966d-4cb9-b79b-f302bef0bc6c",
   "metadata": {},
   "outputs": [],
   "source": []
  }
 ],
 "metadata": {
  "kernelspec": {
   "display_name": "Python 3 (ipykernel)",
   "language": "python",
   "name": "python3"
  },
  "language_info": {
   "codemirror_mode": {
    "name": "ipython",
    "version": 3
   },
   "file_extension": ".py",
   "mimetype": "text/x-python",
   "name": "python",
   "nbconvert_exporter": "python",
   "pygments_lexer": "ipython3",
   "version": "3.9.13"
  }
 },
 "nbformat": 4,
 "nbformat_minor": 5
}
