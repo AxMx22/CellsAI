{
 "cells": [
  {
   "cell_type": "code",
   "execution_count": 1,
   "metadata": {},
   "outputs": [],
   "source": [
    "#IMPORTS\n",
    "# some_file.py\n",
    "import sys\n",
    "# caution: path[0] is reserved for script path (or '' in REPL)\n",
    "sys.path.insert(1, '/C:/Users/andre/OneDrive/Documents/CellsAI/CellsAI/MainDirectory/')\n",
    "\n"
   ]
  },
  {
   "cell_type": "code",
   "execution_count": 3,
   "metadata": {},
   "outputs": [
    {
     "ename": "ModuleNotFoundError",
     "evalue": "No module named 'Game'",
     "output_type": "error",
     "traceback": [
      "\u001b[1;31m---------------------------------------------------------------------------\u001b[0m",
      "\u001b[1;31mModuleNotFoundError\u001b[0m                       Traceback (most recent call last)",
      "\u001b[1;32mc:\\Users\\andre\\OneDrive\\Documents\\CellsAI\\CellsAI\\MainDirectory\\Agent\\main.ipynb Cell 2\u001b[0m line \u001b[0;36m1\n\u001b[1;32m----> <a href='vscode-notebook-cell:/c%3A/Users/andre/OneDrive/Documents/CellsAI/CellsAI/MainDirectory/Agent/main.ipynb#W1sZmlsZQ%3D%3D?line=0'>1</a>\u001b[0m \u001b[39mfrom\u001b[39;00m \u001b[39mGame\u001b[39;00m \u001b[39mimport\u001b[39;00m \u001b[39m*\u001b[39m\n\u001b[0;32m      <a href='vscode-notebook-cell:/c%3A/Users/andre/OneDrive/Documents/CellsAI/CellsAI/MainDirectory/Agent/main.ipynb#W1sZmlsZQ%3D%3D?line=1'>2</a>\u001b[0m \u001b[39mfrom\u001b[39;00m \u001b[39mgame_states\u001b[39;00m \u001b[39mimport\u001b[39;00m GameState\n\u001b[0;32m      <a href='vscode-notebook-cell:/c%3A/Users/andre/OneDrive/Documents/CellsAI/CellsAI/MainDirectory/Agent/main.ipynb#W1sZmlsZQ%3D%3D?line=2'>3</a>\u001b[0m \u001b[39mfrom\u001b[39;00m \u001b[39magent_action\u001b[39;00m \u001b[39mimport\u001b[39;00m \u001b[39m*\u001b[39m\n",
      "\u001b[1;31mModuleNotFoundError\u001b[0m: No module named 'Game'"
     ]
    }
   ],
   "source": [
    "from Game import *\n",
    "from game_states import GameState\n",
    "from agent_action import *\n",
    "from observer import *"
   ]
  },
  {
   "cell_type": "code",
   "execution_count": null,
   "metadata": {},
   "outputs": [],
   "source": [
    "class MainAgent: \n",
    "    def __init__(self):\n",
    "        #Might have current state be determined by our vision class (maybe observer) \n",
    "        self.current_state = GameState.EXPLORE   #holds the current state the bot is in \n",
    "        self.action_instance = Action()          #create and instance of Agent Action\n",
    "        self.action_function = self.action_instance.function_map[self.current_state]   #variable holding the function we call based on the current state  \n",
    "\n",
    "    def set_method(self, state):\n",
    "        self.action_function = self.action_instance.function_map[state]   #variable holding the function we call based on the current state  \n",
    "\n",
    "    #this will retreive and parse visual data and possibly send it for interpretation\n",
    "    def visual_data_received(self):\n",
    "        return \"Visual data\"\n",
    "    \n",
    "    #send through parsed visual data and determine what state to enter...which then controls which actions follow\n",
    "    def interpret(self):\n",
    "        return self.set_method(GameState.EXPLORE)\n"
   ]
  },
  {
   "cell_type": "code",
   "execution_count": null,
   "metadata": {},
   "outputs": [
    {
     "ename": "NameError",
     "evalue": "name 'MainAgent' is not defined",
     "output_type": "error",
     "traceback": [
      "\u001b[1;31m---------------------------------------------------------------------------\u001b[0m",
      "\u001b[1;31mNameError\u001b[0m                                 Traceback (most recent call last)",
      "\u001b[1;32mc:\\Users\\andre\\OneDrive\\Documents\\CellsAI\\CellsAI\\Agent\\main.ipynb Cell 3\u001b[0m line \u001b[0;36m3\n\u001b[0;32m      <a href='vscode-notebook-cell:/c%3A/Users/andre/OneDrive/Documents/CellsAI/CellsAI/Agent/main.ipynb#W1sZmlsZQ%3D%3D?line=0'>1</a>\u001b[0m \u001b[39m#This will act as the main \"brain\" of the program. We will have a while loop in here that takes in data from the observer and waits for events \u001b[39;00m\n\u001b[0;32m      <a href='vscode-notebook-cell:/c%3A/Users/andre/OneDrive/Documents/CellsAI/CellsAI/Agent/main.ipynb#W1sZmlsZQ%3D%3D?line=1'>2</a>\u001b[0m \u001b[39m# to be raised...We only end the loop once we are DEAD or have reached the END\u001b[39;00m\n\u001b[1;32m----> <a href='vscode-notebook-cell:/c%3A/Users/andre/OneDrive/Documents/CellsAI/CellsAI/Agent/main.ipynb#W1sZmlsZQ%3D%3D?line=2'>3</a>\u001b[0m main_agent \u001b[39m=\u001b[39m MainAgent()\n\u001b[0;32m      <a href='vscode-notebook-cell:/c%3A/Users/andre/OneDrive/Documents/CellsAI/CellsAI/Agent/main.ipynb#W1sZmlsZQ%3D%3D?line=3'>4</a>\u001b[0m main_agent\u001b[39m.\u001b[39minterpret()\n\u001b[0;32m      <a href='vscode-notebook-cell:/c%3A/Users/andre/OneDrive/Documents/CellsAI/CellsAI/Agent/main.ipynb#W1sZmlsZQ%3D%3D?line=4'>5</a>\u001b[0m \u001b[39m#want to run until our curretn_state has detected an END\u001b[39;00m\n",
      "\u001b[1;31mNameError\u001b[0m: name 'MainAgent' is not defined"
     ]
    }
   ],
   "source": [
    "#This will act as the main \"brain\" of the program. We will have a while loop in here that takes in data from the observer and waits for events \n",
    "# to be raised...We only end the loop once we are DEAD or have reached the END\n",
    "main_agent = MainAgent()\n",
    "main_agent.interpret()\n",
    "#want to run until our curretn_state has detected an END\n",
    "while(main_agent.current_state != GameState.END):\n",
    "    print(main_agent.action_function())\n",
    "    time.sleep(1)               #probably set a time interval to handle how ever long it takes to execute a move\n"
   ]
  }
 ],
 "metadata": {
  "kernelspec": {
   "display_name": "Python 3",
   "language": "python",
   "name": "python3"
  },
  "language_info": {
   "codemirror_mode": {
    "name": "ipython",
    "version": 3
   },
   "file_extension": ".py",
   "mimetype": "text/x-python",
   "name": "python",
   "nbconvert_exporter": "python",
   "pygments_lexer": "ipython3",
   "version": "3.12.0"
  }
 },
 "nbformat": 4,
 "nbformat_minor": 2
}
