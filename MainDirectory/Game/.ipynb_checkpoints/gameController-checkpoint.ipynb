{
 "cells": [
  {
   "cell_type": "code",
   "execution_count": 1,
   "id": "fab8cd3b-2923-4b75-8933-baf0c1767d4a",
   "metadata": {},
   "outputs": [],
   "source": [
    "import os\n",
    "os.startfile(r\"C:\\\\Users\\\\rayan\\\\OneDrive\\\\Bureau\\\\HackProject\\\\CellsAI\\\\Game\\\\deadcells\")"
   ]
  },
  {
   "cell_type": "code",
   "execution_count": 2,
   "id": "8a4a9e4a-5ac5-4c77-9a2d-ed68a042a43d",
   "metadata": {},
   "outputs": [
    {
     "ename": "NameError",
     "evalue": "name 'goRigth' is not defined",
     "output_type": "error",
     "traceback": [
      "\u001b[1;31m---------------------------------------------------------------------------\u001b[0m",
      "\u001b[1;31mNameError\u001b[0m                                 Traceback (most recent call last)",
      "Cell \u001b[1;32mIn[2], line 9\u001b[0m\n\u001b[0;32m      5\u001b[0m time\u001b[38;5;241m.\u001b[39msleep(\u001b[38;5;241m5\u001b[39m)\n\u001b[0;32m      8\u001b[0m \u001b[38;5;28;01mwhile\u001b[39;00m \u001b[38;5;129;01mnot\u001b[39;00m keyboard\u001b[38;5;241m.\u001b[39mis_pressed(\u001b[38;5;124m'\u001b[39m\u001b[38;5;124mbackspace\u001b[39m\u001b[38;5;124m'\u001b[39m):\n\u001b[1;32m----> 9\u001b[0m     \u001b[43mgoRigth\u001b[49m()\n\u001b[0;32m     10\u001b[0m     goRigth()\n\u001b[0;32m     11\u001b[0m     goRigth()\n",
      "\u001b[1;31mNameError\u001b[0m: name 'goRigth' is not defined"
     ]
    }
   ],
   "source": [
    "import pyautogui\n",
    "import time\n",
    "import keyboard\n",
    "# Wait for a few seconds to ensure the game has loaded\n",
    "time.sleep(5)\n",
    "\n",
    "def goRigth():\n",
    "    pyautogui.keyDown('right')\n",
    "    time.sleep(2)\n",
    "    pyautogui.keyUp('right')\n",
    "\n",
    "def goLeft():\n",
    "    pyautogui.keyDown('left')\n",
    "    time.sleep(2)\n",
    "    pyautogui.keyUp('left')\n",
    "\n",
    "def jump():\n",
    "    pyautogui.keyDown('up')\n",
    "    time.sleep(1)\n",
    "    pyautogui.keyUp('up')\n",
    "\n",
    "\n",
    "while not keyboard.is_pressed('backspace'):\n",
    "    goRigth()\n",
    "    goRigth()\n",
    "    goRigth()\n",
    "    jump()\n",
    "    jump()\n",
    "    goLeft()\n",
    "    jump()\n",
    "    goRigth()\n",
    "    pass\n",
    "\n",
    "\n"
   ]
  },
  {
   "cell_type": "code",
   "execution_count": null,
   "id": "62b5a698-8f02-4c2b-8b78-6d40d0b02b41",
   "metadata": {},
   "outputs": [],
   "source": []
  }
 ],
 "metadata": {
  "kernelspec": {
   "display_name": "Python 3 (ipykernel)",
   "language": "python",
   "name": "python3"
  },
  "language_info": {
   "codemirror_mode": {
    "name": "ipython",
    "version": 3
   },
   "file_extension": ".py",
   "mimetype": "text/x-python",
   "name": "python",
   "nbconvert_exporter": "python",
   "pygments_lexer": "ipython3",
   "version": "3.11.5"
  }
 },
 "nbformat": 4,
 "nbformat_minor": 5
}
