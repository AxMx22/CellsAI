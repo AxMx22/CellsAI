{
 "cells": [
  {
   "cell_type": "code",
   "execution_count": 2,
   "id": "8372f121-b801-48fe-8b74-0eb7aecf839d",
   "metadata": {},
   "outputs": [],
   "source": [
    "import time\n",
    "import os"
   ]
  },
  {
   "cell_type": "code",
   "execution_count": 3,
   "id": "dc46cec5-0dbd-4ccd-affd-f569eccc4dab",
   "metadata": {},
   "outputs": [
    {
     "ename": "SyntaxError",
     "evalue": "(unicode error) 'unicodeescape' codec can't decode bytes in position 2-3: truncated \\UXXXXXXXX escape (1786804264.py, line 2)",
     "output_type": "error",
     "traceback": [
      "\u001b[1;36m  Cell \u001b[1;32mIn[3], line 2\u001b[1;36m\u001b[0m\n\u001b[1;33m    os.startfile(\"C:\\Users\\rayan\\OneDrive\\Bureau\\HackProject\\CellsAI\\Game\\deadcells.exe\")\u001b[0m\n\u001b[1;37m                                                                                        ^\u001b[0m\n\u001b[1;31mSyntaxError\u001b[0m\u001b[1;31m:\u001b[0m (unicode error) 'unicodeescape' codec can't decode bytes in position 2-3: truncated \\UXXXXXXXX escape\n"
     ]
    }
   ],
   "source": [
    "game_path = r'../Game/deadcells.exe'\n",
    "os.startfile(\"C:\\Users\\rayan\\OneDrive\\Bureau\\HackProject\\CellsAI\\Game\\deadcells.exe\")"
   ]
  },
  {
   "cell_type": "code",
   "execution_count": 6,
   "id": "15dcfdd9-905b-4a03-88e1-c5d418c6f3a6",
   "metadata": {},
   "outputs": [],
   "source": [
    "os.startfile(r\"C:\\\\Users\\\\rayan\\\\OneDrive\\\\Bureau\\\\HackProject\\\\CellsAI\\\\Game\\\\deadcells\")"
   ]
  },
  {
   "cell_type": "code",
   "execution_count": 21,
   "id": "4eeec53b-22d0-4a57-9626-06b5b4f7ab25",
   "metadata": {},
   "outputs": [
    {
     "data": {
      "text/plain": [
       "<Popen: returncode: None args: ['C:\\\\Users\\\\rayan\\\\OneDrive\\\\Bureau\\\\HackPro...>"
      ]
     },
     "execution_count": 21,
     "metadata": {},
     "output_type": "execute_result"
    }
   ],
   "source": [
    "import subprocess\n",
    "subprocess.Popen([r\"C:\\Users\\rayan\\OneDrive\\Bureau\\HackProject\\CellsAI\\Game\\deadcells.exe\"])"
   ]
  },
  {
   "cell_type": "code",
   "execution_count": null,
   "id": "c7da7ae8-966d-4cb9-b79b-f302bef0bc6c",
   "metadata": {},
   "outputs": [],
   "source": []
  }
 ],
 "metadata": {
  "kernelspec": {
   "display_name": "Python 3 (ipykernel)",
   "language": "python",
   "name": "python3"
  },
  "language_info": {
   "codemirror_mode": {
    "name": "ipython",
    "version": 3
   },
   "file_extension": ".py",
   "mimetype": "text/x-python",
   "name": "python",
   "nbconvert_exporter": "python",
   "pygments_lexer": "ipython3",
   "version": "3.11.3"
  }
 },
 "nbformat": 4,
 "nbformat_minor": 5
}
