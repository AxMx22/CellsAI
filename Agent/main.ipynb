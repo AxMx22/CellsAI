{
 "cells": [
  {
   "cell_type": "code",
   "execution_count": 2,
   "metadata": {},
   "outputs": [],
   "source": [
    "#IMPORTS\n",
    "import time\n",
    "from game_states import GameState\n",
    "from agent_action import *\n",
    "from observer import *"
   ]
  },
  {
   "cell_type": "code",
   "execution_count": 6,
   "metadata": {},
   "outputs": [
    {
     "name": "stdout",
     "output_type": "stream",
     "text": [
      "explore\n",
      "explore\n",
      "explore\n",
      "explore\n",
      "explore\n",
      "explore\n",
      "explore\n",
      "explore\n",
      "explore\n",
      "explore\n",
      "explore\n",
      "explore\n",
      "explore\n",
      "explore\n",
      "explore\n",
      "explore\n",
      "explore\n",
      "explore\n",
      "explore\n",
      "explore\n",
      "explore\n",
      "explore\n",
      "explore\n",
      "explore\n",
      "explore\n",
      "explore\n",
      "explore\n",
      "explore\n",
      "explore\n",
      "explore\n",
      "explore\n",
      "explore\n",
      "explore\n",
      "explore\n",
      "explore\n",
      "explore\n",
      "explore\n",
      "explore\n",
      "explore\n",
      "explore\n",
      "explore\n",
      "explore\n",
      "explore\n",
      "explore\n",
      "explore\n",
      "explore\n",
      "explore\n",
      "explore\n",
      "explore\n",
      "explore\n",
      "explore\n",
      "explore\n",
      "explore\n",
      "explore\n",
      "explore\n",
      "explore\n",
      "explore\n",
      "explore\n",
      "explore\n",
      "explore\n"
     ]
    },
    {
     "ename": "KeyboardInterrupt",
     "evalue": "",
     "output_type": "error",
     "traceback": [
      "\u001b[1;31m---------------------------------------------------------------------------\u001b[0m",
      "\u001b[1;31mKeyboardInterrupt\u001b[0m                         Traceback (most recent call last)",
      "\u001b[1;32mc:\\Users\\andre\\OneDrive\\Documents\\CellsAI\\Agent\\main.ipynb Cell 2\u001b[0m line \u001b[0;36m1\n\u001b[0;32m      <a href='vscode-notebook-cell:/c%3A/Users/andre/OneDrive/Documents/CellsAI/Agent/main.ipynb#W1sZmlsZQ%3D%3D?line=7'>8</a>\u001b[0m \u001b[39mwhile\u001b[39;00m(current_state \u001b[39m!=\u001b[39m GameState\u001b[39m.\u001b[39mEND):\n\u001b[0;32m      <a href='vscode-notebook-cell:/c%3A/Users/andre/OneDrive/Documents/CellsAI/Agent/main.ipynb#W1sZmlsZQ%3D%3D?line=8'>9</a>\u001b[0m     \u001b[39mprint\u001b[39m(action_function())\n\u001b[1;32m---> <a href='vscode-notebook-cell:/c%3A/Users/andre/OneDrive/Documents/CellsAI/Agent/main.ipynb#W1sZmlsZQ%3D%3D?line=9'>10</a>\u001b[0m     time\u001b[39m.\u001b[39;49msleep(\u001b[39m1\u001b[39;49m)\n",
      "\u001b[1;31mKeyboardInterrupt\u001b[0m: "
     ]
    }
   ],
   "source": [
    "current_state = GameState.EXPLORE   #holds the current state the bot is in \n",
    "action_instance = Action()          #create and instance of Agent Action\n",
    "action_function = action_instance.function_map[current_state]   #variable holding the function we call based on the current state \n",
    "\n",
    "# for i in action_instance.function_map:\n",
    "#     action_function = action_instance.function_map[i]\n",
    "\n",
    "while(current_state != GameState.END):\n",
    "    print(action_function())\n",
    "    time.sleep(1)\n"
   ]
  }
 ],
 "metadata": {
  "kernelspec": {
   "display_name": "Python 3",
   "language": "python",
   "name": "python3"
  },
  "language_info": {
   "codemirror_mode": {
    "name": "ipython",
    "version": 3
   },
   "file_extension": ".py",
   "mimetype": "text/x-python",
   "name": "python",
   "nbconvert_exporter": "python",
   "pygments_lexer": "ipython3",
   "version": "3.12.0"
  }
 },
 "nbformat": 4,
 "nbformat_minor": 2
}
