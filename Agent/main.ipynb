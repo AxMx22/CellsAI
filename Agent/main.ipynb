{
 "cells": [
  {
   "cell_type": "code",
   "execution_count": 1,
   "metadata": {},
   "outputs": [
    {
     "ename": "KeyboardInterrupt",
     "evalue": "",
     "output_type": "error",
     "traceback": [
      "\u001b[1;31m---------------------------------------------------------------------------\u001b[0m",
      "\u001b[1;31mKeyboardInterrupt\u001b[0m                         Traceback (most recent call last)",
      "\u001b[1;32md:\\CA\\CellsAI\\Agent\\main.ipynb Cell 1\u001b[0m line \u001b[0;36m2\n\u001b[0;32m      <a href='vscode-notebook-cell:/d%3A/CA/CellsAI/Agent/main.ipynb#W0sZmlsZQ%3D%3D?line=0'>1</a>\u001b[0m \u001b[39mfrom\u001b[39;00m \u001b[39mgame_states\u001b[39;00m \u001b[39mimport\u001b[39;00m GameState\n\u001b[1;32m----> <a href='vscode-notebook-cell:/d%3A/CA/CellsAI/Agent/main.ipynb#W0sZmlsZQ%3D%3D?line=1'>2</a>\u001b[0m \u001b[39mfrom\u001b[39;00m \u001b[39magent_action\u001b[39;00m \u001b[39mimport\u001b[39;00m \u001b[39m*\u001b[39m\n\u001b[0;32m      <a href='vscode-notebook-cell:/d%3A/CA/CellsAI/Agent/main.ipynb#W0sZmlsZQ%3D%3D?line=2'>3</a>\u001b[0m \u001b[39mfrom\u001b[39;00m \u001b[39mgController\u001b[39;00m \u001b[39mimport\u001b[39;00m \u001b[39m*\u001b[39m\n",
      "File \u001b[1;32md:\\CA\\CellsAI\\Agent\\agent_action.py:153\u001b[0m\n\u001b[0;32m    151\u001b[0m     time\u001b[39m.\u001b[39msleep(\u001b[39m3\u001b[39m)\n\u001b[0;32m    152\u001b[0m     hardStomp()\n\u001b[1;32m--> 153\u001b[0m     roll()\n\u001b[0;32m    155\u001b[0m \u001b[39mwhile\u001b[39;00m \u001b[39mnot\u001b[39;00m keyboard\u001b[39m.\u001b[39mis_pressed(\u001b[39m'\u001b[39m\u001b[39mbackspace\u001b[39m\u001b[39m'\u001b[39m):\n\u001b[0;32m    156\u001b[0m     doubleJump()\n",
      "File \u001b[1;32md:\\CA\\CellsAI\\Agent\\agent_action.py:92\u001b[0m, in \u001b[0;36mroll\u001b[1;34m()\u001b[0m\n\u001b[0;32m     90\u001b[0m \u001b[39mdef\u001b[39;00m \u001b[39mroll\u001b[39m():\n\u001b[0;32m     91\u001b[0m     pyautogui\u001b[39m.\u001b[39mkeyDown(\u001b[39m'\u001b[39m\u001b[39mctrl\u001b[39m\u001b[39m'\u001b[39m)\n\u001b[1;32m---> 92\u001b[0m     time\u001b[39m.\u001b[39;49msleep(\u001b[39m1\u001b[39;49m)\n\u001b[0;32m     93\u001b[0m     pyautogui\u001b[39m.\u001b[39mkeyUp(\u001b[39m'\u001b[39m\u001b[39mctrl\u001b[39m\u001b[39m'\u001b[39m)\n",
      "\u001b[1;31mKeyboardInterrupt\u001b[0m: "
     ]
    }
   ],
   "source": [
    "from game_states import GameState\n",
    "from agent_action import *\n",
    "from gController import *"
   ]
  },
  {
   "cell_type": "code",
   "execution_count": 2,
   "metadata": {},
   "outputs": [],
   "source": [
    "class MainAgent: \n",
    "    def __init__(self):\n",
    "        #Might have current state be determined by our vision class (maybe observer) \n",
    "        self.current_state = GameState.EXPLORE   #holds the current state the bot is in \n",
    "        self.action_instance = Action()          #create and instance of Agent Action\n",
    "        self.action_function = self.action_instance.function_map[self.current_state]   #variable holding the function we call based on the current state  \n",
    "        self.controller = Controller()\n",
    "\n",
    "    def set_method(self, state):\n",
    "        self.action_function = self.action_instance.function_map[state]   #variable holding the function we call based on the current state  \n",
    "\n",
    "    #this will retreive and parse visual data and possibly send it for interpretation\n",
    "    def visual_data_received(self):\n",
    "        return \"Visual data\"\n",
    "    \n",
    "    #send through parsed visual data and determine what state to enter...which then controls which actions follow\n",
    "    def interpret(self):\n",
    "        return self.set_method(GameState.EXPLORE)\n",
    "    \n",
    "    def test_controller(self):\n",
    "        self.controller.test()\n",
    "        \n"
   ]
  },
  {
   "cell_type": "code",
   "execution_count": 6,
   "metadata": {},
   "outputs": [
    {
     "name": "stdout",
     "output_type": "stream",
     "text": [
      "None\n",
      "None\n",
      "None\n",
      "None\n",
      "None\n",
      "None\n",
      "None\n",
      "None\n",
      "None\n",
      "None\n",
      "None\n",
      "None\n",
      "None\n",
      "None\n",
      "None\n",
      "None\n",
      "None\n",
      "None\n",
      "None\n",
      "None\n",
      "None\n",
      "None\n",
      "None\n",
      "None\n",
      "None\n",
      "None\n",
      "None\n",
      "None\n",
      "None\n"
     ]
    },
    {
     "ename": "KeyboardInterrupt",
     "evalue": "",
     "output_type": "error",
     "traceback": [
      "\u001b[1;31m---------------------------------------------------------------------------\u001b[0m",
      "\u001b[1;31mKeyboardInterrupt\u001b[0m                         Traceback (most recent call last)",
      "\u001b[1;32mc:\\Users\\andre\\OneDrive\\Documents\\CellsAI\\CellsAI\\MainDirectory\\Agent\\main.ipynb Cell 3\u001b[0m line \u001b[0;36m9\n\u001b[0;32m      <a href='vscode-notebook-cell:/c%3A/Users/andre/OneDrive/Documents/CellsAI/CellsAI/MainDirectory/Agent/main.ipynb#X10sZmlsZQ%3D%3D?line=5'>6</a>\u001b[0m \u001b[39mwhile\u001b[39;00m(main_agent\u001b[39m.\u001b[39mcurrent_state \u001b[39m!=\u001b[39m GameState\u001b[39m.\u001b[39mEND):\n\u001b[0;32m      <a href='vscode-notebook-cell:/c%3A/Users/andre/OneDrive/Documents/CellsAI/CellsAI/MainDirectory/Agent/main.ipynb#X10sZmlsZQ%3D%3D?line=7'>8</a>\u001b[0m     \u001b[39mprint\u001b[39m(main_agent\u001b[39m.\u001b[39mtest_controller())\n\u001b[1;32m----> <a href='vscode-notebook-cell:/c%3A/Users/andre/OneDrive/Documents/CellsAI/CellsAI/MainDirectory/Agent/main.ipynb#X10sZmlsZQ%3D%3D?line=8'>9</a>\u001b[0m     time\u001b[39m.\u001b[39;49msleep(\u001b[39m1\u001b[39;49m)               \u001b[39m#probably set a time interval to handle how ever long it takes to execute a move\u001b[39;00m\n",
      "\u001b[1;31mKeyboardInterrupt\u001b[0m: "
     ]
    }
   ],
   "source": [
    "#This will act as the main \"brain\" of the program. We will have a while loop in here that takes in data from the observer and waits for events \n",
    "# to be raised...We only end the loop once we are DEAD or have reached the END\n",
    "main_agent = MainAgent()\n",
    "main_agent.interpret()\n",
    "#want to run until our curretn_state has detected an END\n",
    "while(main_agent.current_state != GameState.END):\n",
    "    \n",
    "    print(main_agent.test_controller())\n",
    "    time.sleep(1)               #probably set a time interval to handle how ever long it takes to execute a move\n"
   ]
  }
 ],
 "metadata": {
  "kernelspec": {
   "display_name": "Python 3 (ipykernel)",
   "language": "python",
   "name": "python3"
  }
 },
 "nbformat": 4,
 "nbformat_minor": 4
}
